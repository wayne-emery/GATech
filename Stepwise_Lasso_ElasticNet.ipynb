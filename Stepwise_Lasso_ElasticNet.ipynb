{
 "cells": [
  {
   "cell_type": "code",
   "execution_count": 730,
   "metadata": {},
   "outputs": [],
   "source": [
    "#This hw features Stepwise Regression, Lasso and Elastic Net"
   ]
  },
  {
   "cell_type": "code",
   "execution_count": 731,
   "metadata": {},
   "outputs": [],
   "source": [
    "#Stepwise Regression"
   ]
  },
  {
   "cell_type": "code",
   "execution_count": 732,
   "metadata": {},
   "outputs": [],
   "source": [
    "#Load the data"
   ]
  },
  {
   "cell_type": "code",
   "execution_count": 733,
   "metadata": {},
   "outputs": [],
   "source": [
    "rm(list=ls())"
   ]
  },
  {
   "cell_type": "code",
   "execution_count": 734,
   "metadata": {
    "scrolled": true
   },
   "outputs": [],
   "source": [
    "data <- read.table('uscrime.txt', stringsAsFactors = FALSE, header=TRUE)"
   ]
  },
  {
   "cell_type": "code",
   "execution_count": 735,
   "metadata": {},
   "outputs": [
    {
     "data": {
      "text/html": [
       "<table>\n",
       "<thead><tr><th scope=col>M</th><th scope=col>So</th><th scope=col>Ed</th><th scope=col>Po1</th><th scope=col>Po2</th><th scope=col>LF</th><th scope=col>M.F</th><th scope=col>Pop</th><th scope=col>NW</th><th scope=col>U1</th><th scope=col>U2</th><th scope=col>Wealth</th><th scope=col>Ineq</th><th scope=col>Prob</th><th scope=col>Time</th><th scope=col>Crime</th></tr></thead>\n",
       "<tbody>\n",
       "\t<tr><td>15.1    </td><td>1       </td><td> 9.1    </td><td> 5.8    </td><td> 5.6    </td><td>0.510   </td><td> 95.0   </td><td> 33     </td><td>30.1    </td><td>0.108   </td><td>4.1     </td><td>3940    </td><td>26.1    </td><td>0.084602</td><td>26.2011 </td><td> 791    </td></tr>\n",
       "\t<tr><td>14.3    </td><td>0       </td><td>11.3    </td><td>10.3    </td><td> 9.5    </td><td>0.583   </td><td>101.2   </td><td> 13     </td><td>10.2    </td><td>0.096   </td><td>3.6     </td><td>5570    </td><td>19.4    </td><td>0.029599</td><td>25.2999 </td><td>1635    </td></tr>\n",
       "\t<tr><td>14.2    </td><td>1       </td><td> 8.9    </td><td> 4.5    </td><td> 4.4    </td><td>0.533   </td><td> 96.9   </td><td> 18     </td><td>21.9    </td><td>0.094   </td><td>3.3     </td><td>3180    </td><td>25.0    </td><td>0.083401</td><td>24.3006 </td><td> 578    </td></tr>\n",
       "\t<tr><td>13.6    </td><td>0       </td><td>12.1    </td><td>14.9    </td><td>14.1    </td><td>0.577   </td><td> 99.4   </td><td>157     </td><td> 8.0    </td><td>0.102   </td><td>3.9     </td><td>6730    </td><td>16.7    </td><td>0.015801</td><td>29.9012 </td><td>1969    </td></tr>\n",
       "\t<tr><td>14.1    </td><td>0       </td><td>12.1    </td><td>10.9    </td><td>10.1    </td><td>0.591   </td><td> 98.5   </td><td> 18     </td><td> 3.0    </td><td>0.091   </td><td>2.0     </td><td>5780    </td><td>17.4    </td><td>0.041399</td><td>21.2998 </td><td>1234    </td></tr>\n",
       "\t<tr><td>12.1    </td><td>0       </td><td>11.0    </td><td>11.8    </td><td>11.5    </td><td>0.547   </td><td> 96.4   </td><td> 25     </td><td> 4.4    </td><td>0.084   </td><td>2.9     </td><td>6890    </td><td>12.6    </td><td>0.034201</td><td>20.9995 </td><td> 682    </td></tr>\n",
       "</tbody>\n",
       "</table>\n"
      ],
      "text/latex": [
       "\\begin{tabular}{r|llllllllllllllll}\n",
       " M & So & Ed & Po1 & Po2 & LF & M.F & Pop & NW & U1 & U2 & Wealth & Ineq & Prob & Time & Crime\\\\\n",
       "\\hline\n",
       "\t 15.1     & 1        &  9.1     &  5.8     &  5.6     & 0.510    &  95.0    &  33      & 30.1     & 0.108    & 4.1      & 3940     & 26.1     & 0.084602 & 26.2011  &  791    \\\\\n",
       "\t 14.3     & 0        & 11.3     & 10.3     &  9.5     & 0.583    & 101.2    &  13      & 10.2     & 0.096    & 3.6      & 5570     & 19.4     & 0.029599 & 25.2999  & 1635    \\\\\n",
       "\t 14.2     & 1        &  8.9     &  4.5     &  4.4     & 0.533    &  96.9    &  18      & 21.9     & 0.094    & 3.3      & 3180     & 25.0     & 0.083401 & 24.3006  &  578    \\\\\n",
       "\t 13.6     & 0        & 12.1     & 14.9     & 14.1     & 0.577    &  99.4    & 157      &  8.0     & 0.102    & 3.9      & 6730     & 16.7     & 0.015801 & 29.9012  & 1969    \\\\\n",
       "\t 14.1     & 0        & 12.1     & 10.9     & 10.1     & 0.591    &  98.5    &  18      &  3.0     & 0.091    & 2.0      & 5780     & 17.4     & 0.041399 & 21.2998  & 1234    \\\\\n",
       "\t 12.1     & 0        & 11.0     & 11.8     & 11.5     & 0.547    &  96.4    &  25      &  4.4     & 0.084    & 2.9      & 6890     & 12.6     & 0.034201 & 20.9995  &  682    \\\\\n",
       "\\end{tabular}\n"
      ],
      "text/markdown": [
       "\n",
       "M | So | Ed | Po1 | Po2 | LF | M.F | Pop | NW | U1 | U2 | Wealth | Ineq | Prob | Time | Crime | \n",
       "|---|---|---|---|---|---|\n",
       "| 15.1     | 1        |  9.1     |  5.8     |  5.6     | 0.510    |  95.0    |  33      | 30.1     | 0.108    | 4.1      | 3940     | 26.1     | 0.084602 | 26.2011  |  791     | \n",
       "| 14.3     | 0        | 11.3     | 10.3     |  9.5     | 0.583    | 101.2    |  13      | 10.2     | 0.096    | 3.6      | 5570     | 19.4     | 0.029599 | 25.2999  | 1635     | \n",
       "| 14.2     | 1        |  8.9     |  4.5     |  4.4     | 0.533    |  96.9    |  18      | 21.9     | 0.094    | 3.3      | 3180     | 25.0     | 0.083401 | 24.3006  |  578     | \n",
       "| 13.6     | 0        | 12.1     | 14.9     | 14.1     | 0.577    |  99.4    | 157      |  8.0     | 0.102    | 3.9      | 6730     | 16.7     | 0.015801 | 29.9012  | 1969     | \n",
       "| 14.1     | 0        | 12.1     | 10.9     | 10.1     | 0.591    |  98.5    |  18      |  3.0     | 0.091    | 2.0      | 5780     | 17.4     | 0.041399 | 21.2998  | 1234     | \n",
       "| 12.1     | 0        | 11.0     | 11.8     | 11.5     | 0.547    |  96.4    |  25      |  4.4     | 0.084    | 2.9      | 6890     | 12.6     | 0.034201 | 20.9995  |  682     | \n",
       "\n",
       "\n"
      ],
      "text/plain": [
       "  M    So Ed   Po1  Po2  LF    M.F   Pop NW   U1    U2  Wealth Ineq Prob    \n",
       "1 15.1 1   9.1  5.8  5.6 0.510  95.0  33 30.1 0.108 4.1 3940   26.1 0.084602\n",
       "2 14.3 0  11.3 10.3  9.5 0.583 101.2  13 10.2 0.096 3.6 5570   19.4 0.029599\n",
       "3 14.2 1   8.9  4.5  4.4 0.533  96.9  18 21.9 0.094 3.3 3180   25.0 0.083401\n",
       "4 13.6 0  12.1 14.9 14.1 0.577  99.4 157  8.0 0.102 3.9 6730   16.7 0.015801\n",
       "5 14.1 0  12.1 10.9 10.1 0.591  98.5  18  3.0 0.091 2.0 5780   17.4 0.041399\n",
       "6 12.1 0  11.0 11.8 11.5 0.547  96.4  25  4.4 0.084 2.9 6890   12.6 0.034201\n",
       "  Time    Crime\n",
       "1 26.2011  791 \n",
       "2 25.2999 1635 \n",
       "3 24.3006  578 \n",
       "4 29.9012 1969 \n",
       "5 21.2998 1234 \n",
       "6 20.9995  682 "
      ]
     },
     "metadata": {},
     "output_type": "display_data"
    }
   ],
   "source": [
    "head(data)"
   ]
  },
  {
   "cell_type": "code",
   "execution_count": 736,
   "metadata": {},
   "outputs": [
    {
     "data": {
      "text/plain": [
       "\n",
       "Call:\n",
       "lm(formula = Crime ~ M + Ed + Po1 + M.F + U1 + U2 + Ineq + Prob, \n",
       "    data = data)\n",
       "\n",
       "Coefficients:\n",
       "(Intercept)            M           Ed          Po1          M.F           U1  \n",
       "   -6426.10        93.32       180.12       102.65        22.34     -6086.63  \n",
       "         U2         Ineq         Prob  \n",
       "     187.35        61.33     -3796.03  \n"
      ]
     },
     "metadata": {},
     "output_type": "display_data"
    }
   ],
   "source": [
    "model_back <- lm(Crime~.,data = data)\n",
    "#step(model_back, direction = \"backward\")\n",
    "step(model_back, direction = \"backward\", trace = 0)"
   ]
  },
  {
   "cell_type": "code",
   "execution_count": 737,
   "metadata": {},
   "outputs": [],
   "source": [
    "#Rerun to get p values or confidence intervals"
   ]
  },
  {
   "cell_type": "code",
   "execution_count": 738,
   "metadata": {},
   "outputs": [],
   "source": [
    "#First, let's run another regression with those coefs to \n",
    "#get r squared and p values"
   ]
  },
  {
   "cell_type": "code",
   "execution_count": 739,
   "metadata": {},
   "outputs": [],
   "source": [
    "model_back_selected <- lm(Crime~M + Ed + Po1 + M.F + U1 + U2 + \n",
    "                          Ineq + Prob, data = data )"
   ]
  },
  {
   "cell_type": "code",
   "execution_count": 740,
   "metadata": {
    "scrolled": true
   },
   "outputs": [
    {
     "data": {
      "text/plain": [
       "\n",
       "Call:\n",
       "lm(formula = Crime ~ M + Ed + Po1 + M.F + U1 + U2 + Ineq + Prob, \n",
       "    data = data)\n",
       "\n",
       "Residuals:\n",
       "    Min      1Q  Median      3Q     Max \n",
       "-444.70 -111.07    3.03  122.15  483.30 \n",
       "\n",
       "Coefficients:\n",
       "            Estimate Std. Error t value Pr(>|t|)    \n",
       "(Intercept) -6426.10    1194.61  -5.379 4.04e-06 ***\n",
       "M              93.32      33.50   2.786  0.00828 ** \n",
       "Ed            180.12      52.75   3.414  0.00153 ** \n",
       "Po1           102.65      15.52   6.613 8.26e-08 ***\n",
       "M.F            22.34      13.60   1.642  0.10874    \n",
       "U1          -6086.63    3339.27  -1.823  0.07622 .  \n",
       "U2            187.35      72.48   2.585  0.01371 *  \n",
       "Ineq           61.33      13.96   4.394 8.63e-05 ***\n",
       "Prob        -3796.03    1490.65  -2.547  0.01505 *  \n",
       "---\n",
       "Signif. codes:  0 ‘***’ 0.001 ‘**’ 0.01 ‘*’ 0.05 ‘.’ 0.1 ‘ ’ 1\n",
       "\n",
       "Residual standard error: 195.5 on 38 degrees of freedom\n",
       "Multiple R-squared:  0.7888,\tAdjusted R-squared:  0.7444 \n",
       "F-statistic: 17.74 on 8 and 38 DF,  p-value: 1.159e-10\n"
      ]
     },
     "metadata": {},
     "output_type": "display_data"
    }
   ],
   "source": [
    "summary(model_back_selected)"
   ]
  },
  {
   "cell_type": "code",
   "execution_count": 741,
   "metadata": {},
   "outputs": [],
   "source": [
    "#That gives us an adjusted R-squared of 74%, but M.F isn't significant. \n",
    "#Let's run it again."
   ]
  },
  {
   "cell_type": "code",
   "execution_count": 742,
   "metadata": {},
   "outputs": [],
   "source": [
    "model_back_selected2 <- lm(Crime~M + Ed + Po1 + U1 + U2 + Ineq + \n",
    "                           Prob, data = data )"
   ]
  },
  {
   "cell_type": "code",
   "execution_count": 743,
   "metadata": {
    "scrolled": true
   },
   "outputs": [
    {
     "data": {
      "text/plain": [
       "\n",
       "Call:\n",
       "lm(formula = Crime ~ M + Ed + Po1 + U1 + U2 + Ineq + Prob, data = data)\n",
       "\n",
       "Residuals:\n",
       "    Min      1Q  Median      3Q     Max \n",
       "-520.76 -105.67    9.53  136.28  519.37 \n",
       "\n",
       "Coefficients:\n",
       "            Estimate Std. Error t value Pr(>|t|)    \n",
       "(Intercept) -5095.55     896.90  -5.681 1.43e-06 ***\n",
       "M             106.78      33.18   3.218   0.0026 ** \n",
       "Ed            218.45      48.33   4.520 5.62e-05 ***\n",
       "Po1           105.96      15.72   6.738 4.91e-08 ***\n",
       "U1          -3542.35    3021.94  -1.172   0.2482    \n",
       "U2            158.82      71.89   2.209   0.0331 *  \n",
       "Ineq           66.33      13.92   4.767 2.61e-05 ***\n",
       "Prob        -3730.85    1522.21  -2.451   0.0188 *  \n",
       "---\n",
       "Signif. codes:  0 ‘***’ 0.001 ‘**’ 0.01 ‘*’ 0.05 ‘.’ 0.1 ‘ ’ 1\n",
       "\n",
       "Residual standard error: 199.8 on 39 degrees of freedom\n",
       "Multiple R-squared:  0.7738,\tAdjusted R-squared:  0.7332 \n",
       "F-statistic: 19.06 on 7 and 39 DF,  p-value: 8.805e-11\n"
      ]
     },
     "metadata": {},
     "output_type": "display_data"
    }
   ],
   "source": [
    "summary(model_back_selected2)"
   ]
  },
  {
   "cell_type": "code",
   "execution_count": 744,
   "metadata": {},
   "outputs": [],
   "source": [
    "#Our adjusted R-sqared went down, indicating that M.F, though just \n",
    "#out of 10% range, has an influence"
   ]
  },
  {
   "cell_type": "code",
   "execution_count": 745,
   "metadata": {},
   "outputs": [
    {
     "data": {
      "text/plain": [
       "\n",
       "Call:\n",
       "lm(formula = Crime ~ Po1 + Ineq + Ed + M + Prob + U2, data = data)\n",
       "\n",
       "Coefficients:\n",
       "(Intercept)          Po1         Ineq           Ed            M         Prob  \n",
       "   -5040.50       115.02        67.65       196.47       105.02     -3801.84  \n",
       "         U2  \n",
       "      89.37  \n"
      ]
     },
     "metadata": {},
     "output_type": "display_data"
    }
   ],
   "source": [
    "model_forward <- lm(Crime~1, data = data) \n",
    "step(model_forward, scope = formula(lm(Crime~.,data = data)),\n",
    "    direction = 'forward',trace =0)"
   ]
  },
  {
   "cell_type": "code",
   "execution_count": 746,
   "metadata": {},
   "outputs": [],
   "source": [
    "#Rerun to get good-fit indicators"
   ]
  },
  {
   "cell_type": "code",
   "execution_count": 747,
   "metadata": {},
   "outputs": [],
   "source": [
    "model_forward_selected <- lm(Crime~Po1 + Ineq + Ed + M + Prob + U2, \n",
    "                             data = data) "
   ]
  },
  {
   "cell_type": "code",
   "execution_count": 748,
   "metadata": {
    "scrolled": true
   },
   "outputs": [
    {
     "data": {
      "text/plain": [
       "\n",
       "Call:\n",
       "lm(formula = Crime ~ Po1 + Ineq + Ed + M + Prob + U2, data = data)\n",
       "\n",
       "Residuals:\n",
       "    Min      1Q  Median      3Q     Max \n",
       "-470.68  -78.41  -19.68  133.12  556.23 \n",
       "\n",
       "Coefficients:\n",
       "            Estimate Std. Error t value Pr(>|t|)    \n",
       "(Intercept) -5040.50     899.84  -5.602 1.72e-06 ***\n",
       "Po1           115.02      13.75   8.363 2.56e-10 ***\n",
       "Ineq           67.65      13.94   4.855 1.88e-05 ***\n",
       "Ed            196.47      44.75   4.390 8.07e-05 ***\n",
       "M             105.02      33.30   3.154  0.00305 ** \n",
       "Prob        -3801.84    1528.10  -2.488  0.01711 *  \n",
       "U2             89.37      40.91   2.185  0.03483 *  \n",
       "---\n",
       "Signif. codes:  0 ‘***’ 0.001 ‘**’ 0.01 ‘*’ 0.05 ‘.’ 0.1 ‘ ’ 1\n",
       "\n",
       "Residual standard error: 200.7 on 40 degrees of freedom\n",
       "Multiple R-squared:  0.7659,\tAdjusted R-squared:  0.7307 \n",
       "F-statistic: 21.81 on 6 and 40 DF,  p-value: 3.418e-11\n"
      ]
     },
     "metadata": {},
     "output_type": "display_data"
    }
   ],
   "source": [
    "summary(model_forward_selected)"
   ]
  },
  {
   "cell_type": "code",
   "execution_count": 749,
   "metadata": {},
   "outputs": [],
   "source": [
    "#The forward stepwise selection chose the same variables as we previously \n",
    "#looked at when we took out M.F because it was significant only at .109"
   ]
  },
  {
   "cell_type": "code",
   "execution_count": null,
   "metadata": {},
   "outputs": [],
   "source": []
  },
  {
   "cell_type": "code",
   "execution_count": 750,
   "metadata": {},
   "outputs": [],
   "source": [
    "#Perform stepwise regression"
   ]
  },
  {
   "cell_type": "code",
   "execution_count": 751,
   "metadata": {},
   "outputs": [
    {
     "data": {
      "text/plain": [
       "\n",
       "Call:\n",
       "lm(formula = Crime ~ M + Ed + Po1 + M.F + U1 + U2 + Ineq + Prob, \n",
       "    data = data)\n",
       "\n",
       "Coefficients:\n",
       "(Intercept)            M           Ed          Po1          M.F           U1  \n",
       "   -6426.10        93.32       180.12       102.65        22.34     -6086.63  \n",
       "         U2         Ineq         Prob  \n",
       "     187.35        61.33     -3796.03  \n"
      ]
     },
     "metadata": {},
     "output_type": "display_data"
    }
   ],
   "source": [
    "model_both <- lm(Crime~., data = data)\n",
    "step(model_both,\n",
    "    scope = list(lower = formula(lm(Crime~1, data = data)),\n",
    "                upper = formula(lm(Crime~.,data=data))),\n",
    "    direction = \"both\",trace = 0)"
   ]
  },
  {
   "cell_type": "code",
   "execution_count": 752,
   "metadata": {},
   "outputs": [],
   "source": [
    "#Rerun to see R squared "
   ]
  },
  {
   "cell_type": "code",
   "execution_count": 753,
   "metadata": {},
   "outputs": [],
   "source": [
    "model_both_selected <- lm(Crime~M + Ed + Po1 + M.F + U1 + U2 + Ineq + \n",
    "                          Prob, data = data)"
   ]
  },
  {
   "cell_type": "code",
   "execution_count": 754,
   "metadata": {
    "scrolled": true
   },
   "outputs": [
    {
     "data": {
      "text/plain": [
       "\n",
       "Call:\n",
       "lm(formula = Crime ~ M + Ed + Po1 + M.F + U1 + U2 + Ineq + Prob, \n",
       "    data = data)\n",
       "\n",
       "Residuals:\n",
       "    Min      1Q  Median      3Q     Max \n",
       "-444.70 -111.07    3.03  122.15  483.30 \n",
       "\n",
       "Coefficients:\n",
       "            Estimate Std. Error t value Pr(>|t|)    \n",
       "(Intercept) -6426.10    1194.61  -5.379 4.04e-06 ***\n",
       "M              93.32      33.50   2.786  0.00828 ** \n",
       "Ed            180.12      52.75   3.414  0.00153 ** \n",
       "Po1           102.65      15.52   6.613 8.26e-08 ***\n",
       "M.F            22.34      13.60   1.642  0.10874    \n",
       "U1          -6086.63    3339.27  -1.823  0.07622 .  \n",
       "U2            187.35      72.48   2.585  0.01371 *  \n",
       "Ineq           61.33      13.96   4.394 8.63e-05 ***\n",
       "Prob        -3796.03    1490.65  -2.547  0.01505 *  \n",
       "---\n",
       "Signif. codes:  0 ‘***’ 0.001 ‘**’ 0.01 ‘*’ 0.05 ‘.’ 0.1 ‘ ’ 1\n",
       "\n",
       "Residual standard error: 195.5 on 38 degrees of freedom\n",
       "Multiple R-squared:  0.7888,\tAdjusted R-squared:  0.7444 \n",
       "F-statistic: 17.74 on 8 and 38 DF,  p-value: 1.159e-10\n"
      ]
     },
     "metadata": {},
     "output_type": "display_data"
    }
   ],
   "source": [
    "summary(model_both_selected)"
   ]
  },
  {
   "cell_type": "code",
   "execution_count": 755,
   "metadata": {},
   "outputs": [],
   "source": [
    "#These is actually the same adjusted R-squared as backward \n",
    "#stepwise with R-squared 74.4%"
   ]
  },
  {
   "cell_type": "code",
   "execution_count": 756,
   "metadata": {},
   "outputs": [],
   "source": [
    "#Let's compare these three when cross-validating with the caret package\n",
    "#For each we'll use 4 fold cross-validation and repeat 5 times"
   ]
  },
  {
   "cell_type": "code",
   "execution_count": 757,
   "metadata": {},
   "outputs": [],
   "source": [
    "set.seed(101)"
   ]
  },
  {
   "cell_type": "code",
   "execution_count": 758,
   "metadata": {},
   "outputs": [],
   "source": [
    "#install.packages('klaR')"
   ]
  },
  {
   "cell_type": "code",
   "execution_count": 759,
   "metadata": {
    "scrolled": true
   },
   "outputs": [
    {
     "name": "stdout",
     "output_type": "stream",
     "text": [
      "Linear Regression \n",
      "\n",
      "47 samples\n",
      " 8 predictor\n",
      "\n",
      "No pre-processing\n",
      "Resampling: Cross-Validated (4 fold, repeated 5 times) \n",
      "Summary of sample sizes: 36, 35, 35, 35, 35, 35, ... \n",
      "Resampling results:\n",
      "\n",
      "  RMSE      Rsquared   MAE     \n",
      "  235.2556  0.6450194  190.2387\n",
      "\n",
      "Tuning parameter 'intercept' was held constant at a value of TRUE\n"
     ]
    }
   ],
   "source": [
    "\n",
    "# load the library\n",
    "library(caret)\n",
    "library(klaR)\n",
    "\n",
    "# define training control\n",
    "train_control <- trainControl(method=\"repeatedcv\", number=4, repeats=5)\n",
    "# train the model\n",
    "model_backwards <- train(Crime~M + Ed + Po1 + M.F + U1 + U2 + Ineq + Prob, data=data, \n",
    "                         trControl=train_control, method=\"lm\")\n",
    "# summarize results\n",
    "print(model_backwards)"
   ]
  },
  {
   "cell_type": "code",
   "execution_count": 760,
   "metadata": {},
   "outputs": [],
   "source": [
    "#We have 65% with the variables from the backwards stepwise regression"
   ]
  },
  {
   "cell_type": "code",
   "execution_count": 761,
   "metadata": {
    "scrolled": true
   },
   "outputs": [
    {
     "name": "stdout",
     "output_type": "stream",
     "text": [
      "Linear Regression \n",
      "\n",
      "47 samples\n",
      " 6 predictor\n",
      "\n",
      "No pre-processing\n",
      "Resampling: Cross-Validated (4 fold, repeated 5 times) \n",
      "Summary of sample sizes: 35, 35, 36, 35, 36, 35, ... \n",
      "Resampling results:\n",
      "\n",
      "  RMSE      Rsquared   MAE     \n",
      "  226.0568  0.6633439  173.7372\n",
      "\n",
      "Tuning parameter 'intercept' was held constant at a value of TRUE\n"
     ]
    }
   ],
   "source": [
    "train_control <- trainControl(method=\"repeatedcv\", number=4, repeats=5)\n",
    "# train the model\n",
    "model_forwards <- train(Crime~Po1 + Ineq + Ed + M + Prob + U2, data=data, \n",
    "                        trControl=train_control, method=\"lm\")\n",
    "# summarize results\n",
    "print(model_forwards)"
   ]
  },
  {
   "cell_type": "code",
   "execution_count": 762,
   "metadata": {},
   "outputs": [],
   "source": [
    "#We get 70% cross-validating with the variables from the forwards\n",
    "#stepwise regression"
   ]
  },
  {
   "cell_type": "code",
   "execution_count": 763,
   "metadata": {},
   "outputs": [],
   "source": [
    "#Let's try the variables selected from choosing both in \n",
    "#the stepwise regression"
   ]
  },
  {
   "cell_type": "code",
   "execution_count": 764,
   "metadata": {
    "scrolled": true
   },
   "outputs": [
    {
     "name": "stdout",
     "output_type": "stream",
     "text": [
      "Linear Regression \n",
      "\n",
      "47 samples\n",
      " 6 predictor\n",
      "\n",
      "No pre-processing\n",
      "Resampling: Cross-Validated (4 fold, repeated 5 times) \n",
      "Summary of sample sizes: 35, 36, 35, 35, 35, 35, ... \n",
      "Resampling results:\n",
      "\n",
      "  RMSE      Rsquared   MAE     \n",
      "  214.6358  0.7102057  160.7876\n",
      "\n",
      "Tuning parameter 'intercept' was held constant at a value of TRUE\n"
     ]
    }
   ],
   "source": [
    "train_control <- trainControl(method=\"repeatedcv\", number=4, repeats=5)\n",
    "# train the model\n",
    "model_both <- train(Crime~Po1 + Ineq + Ed + M + Prob + U2, data=data, \n",
    "                    trControl=train_control, method=\"lm\")\n",
    "# summarize results\n",
    "print(model_both)"
   ]
  },
  {
   "cell_type": "code",
   "execution_count": 765,
   "metadata": {},
   "outputs": [],
   "source": [
    "#Here it's 71%.  We have 65%,66% and 71%. I choose the variables \n",
    "#from the forward stepwise regression or both. It's important \n",
    "#to note, that comparison change each time it's run. This is \n",
    "#partially due to insufficient data."
   ]
  },
  {
   "cell_type": "code",
   "execution_count": 766,
   "metadata": {},
   "outputs": [],
   "source": [
    "#From Model 1,2,and 3, I choose model 2 because after \n",
    "#cross-validation, it maintained the highest adjusted \n",
    "#R-squared on my first seed. Of course, there isn't much \n",
    "#data, so that's a problem."
   ]
  },
  {
   "cell_type": "code",
   "execution_count": 767,
   "metadata": {},
   "outputs": [],
   "source": [
    "#Let's check AIC, AIC corrected and BIC"
   ]
  },
  {
   "cell_type": "code",
   "execution_count": 768,
   "metadata": {},
   "outputs": [],
   "source": [
    "#install.packages(\"sme\")"
   ]
  },
  {
   "cell_type": "code",
   "execution_count": 769,
   "metadata": {},
   "outputs": [],
   "source": [
    "library(sme)"
   ]
  },
  {
   "cell_type": "code",
   "execution_count": 770,
   "metadata": {},
   "outputs": [
    {
     "data": {
      "text/html": [
       "639.315101177044"
      ],
      "text/latex": [
       "639.315101177044"
      ],
      "text/markdown": [
       "639.315101177044"
      ],
      "text/plain": [
       "[1] 639.3151"
      ]
     },
     "metadata": {},
     "output_type": "display_data"
    }
   ],
   "source": [
    "backwards_AIC <- AIC(lm(Crime~M + Ed + Po1 + M.F + U1 + U2 + \n",
    "                        Ineq + Prob, data=data))\n",
    "backwards_AIC"
   ]
  },
  {
   "cell_type": "code",
   "execution_count": 771,
   "metadata": {},
   "outputs": [
    {
     "data": {
      "text/html": [
       "640.166129678112"
      ],
      "text/latex": [
       "640.166129678112"
      ],
      "text/markdown": [
       "640.166129678112"
      ],
      "text/plain": [
       "[1] 640.1661"
      ]
     },
     "metadata": {},
     "output_type": "display_data"
    }
   ],
   "source": [
    "forwards_AIC <- AIC(lm( Crime~Po1 + Ineq + Ed + M + Prob + \n",
    "                       U2, data=data ))\n",
    "forwards_AIC\n"
   ]
  },
  {
   "cell_type": "code",
   "execution_count": 772,
   "metadata": {},
   "outputs": [
    {
     "data": {
      "text/html": [
       "639.315101177044"
      ],
      "text/latex": [
       "639.315101177044"
      ],
      "text/markdown": [
       "639.315101177044"
      ],
      "text/plain": [
       "[1] 639.3151"
      ]
     },
     "metadata": {},
     "output_type": "display_data"
    }
   ],
   "source": [
    "both_AIC <- AIC(lm(Crime~M + Ed + Po1 + M.F + U1 + U2 + \n",
    "                   Ineq + Prob, data = data))\n",
    "both_AIC"
   ]
  },
  {
   "cell_type": "code",
   "execution_count": 773,
   "metadata": {},
   "outputs": [],
   "source": [
    "#From AIC, backwards and both, with same coefficients, won"
   ]
  },
  {
   "cell_type": "code",
   "execution_count": 774,
   "metadata": {},
   "outputs": [
    {
     "data": {
      "text/html": [
       "645.426212288155"
      ],
      "text/latex": [
       "645.426212288155"
      ],
      "text/markdown": [
       "645.426212288155"
      ],
      "text/plain": [
       "[1] 645.4262"
      ]
     },
     "metadata": {},
     "output_type": "display_data"
    }
   ],
   "source": [
    "backwards_AICc <- AICc(lm(Crime~M + Ed + Po1 + M.F + U1 + U2 + \n",
    "                          Ineq + Prob, data=data))\n",
    "backwards_AICc"
   ]
  },
  {
   "cell_type": "code",
   "execution_count": 775,
   "metadata": {},
   "outputs": [
    {
     "data": {
      "text/html": [
       "643.955603362323"
      ],
      "text/latex": [
       "643.955603362323"
      ],
      "text/markdown": [
       "643.955603362323"
      ],
      "text/plain": [
       "[1] 643.9556"
      ]
     },
     "metadata": {},
     "output_type": "display_data"
    }
   ],
   "source": [
    "forwards_AICc <- AICc(lm( Crime~Po1 + Ineq + Ed + M + Prob + U2, \n",
    "                         data=data ))\n",
    "forwards_AICc"
   ]
  },
  {
   "cell_type": "code",
   "execution_count": 776,
   "metadata": {},
   "outputs": [
    {
     "data": {
      "text/html": [
       "645.426212288155"
      ],
      "text/latex": [
       "645.426212288155"
      ],
      "text/markdown": [
       "645.426212288155"
      ],
      "text/plain": [
       "[1] 645.4262"
      ]
     },
     "metadata": {},
     "output_type": "display_data"
    }
   ],
   "source": [
    "both_AICc <- AICc(lm(Crime~M + Ed + Po1 + M.F + U1 + U2 + Ineq + \n",
    "                     Prob, data = data))\n",
    "both_AICc"
   ]
  },
  {
   "cell_type": "code",
   "execution_count": 777,
   "metadata": {},
   "outputs": [],
   "source": [
    "#From AIC corrected, forwards won. It penalizes complex models. \n",
    "#Forward has two less variables."
   ]
  },
  {
   "cell_type": "code",
   "execution_count": 778,
   "metadata": {},
   "outputs": [
    {
     "data": {
      "text/html": [
       "657.816577194144"
      ],
      "text/latex": [
       "657.816577194144"
      ],
      "text/markdown": [
       "657.816577194144"
      ],
      "text/plain": [
       "[1] 657.8166"
      ]
     },
     "metadata": {},
     "output_type": "display_data"
    }
   ],
   "source": [
    "backwards_BIC <- BIC(lm(Crime~M + Ed + Po1 + M.F + U1 + U2 + \n",
    "                        Ineq + Prob, data=data))\n",
    "backwards_BIC"
   ]
  },
  {
   "cell_type": "code",
   "execution_count": 779,
   "metadata": {},
   "outputs": [
    {
     "data": {
      "text/html": [
       "654.967310491793"
      ],
      "text/latex": [
       "654.967310491793"
      ],
      "text/markdown": [
       "654.967310491793"
      ],
      "text/plain": [
       "[1] 654.9673"
      ]
     },
     "metadata": {},
     "output_type": "display_data"
    }
   ],
   "source": [
    "forwards_BIC <- BIC(lm( Crime~Po1 + Ineq + Ed + M + Prob + U2, \n",
    "                       data=data ))\n",
    "forwards_BIC"
   ]
  },
  {
   "cell_type": "code",
   "execution_count": 780,
   "metadata": {},
   "outputs": [
    {
     "data": {
      "text/html": [
       "657.816577194144"
      ],
      "text/latex": [
       "657.816577194144"
      ],
      "text/markdown": [
       "657.816577194144"
      ],
      "text/plain": [
       "[1] 657.8166"
      ]
     },
     "metadata": {},
     "output_type": "display_data"
    }
   ],
   "source": [
    "both_BIC <- BIC(lm(Crime~M + Ed + Po1 + M.F + U1 + U2 + Ineq + Prob, \n",
    "                   data = data))\n",
    "both_BIC"
   ]
  },
  {
   "cell_type": "code",
   "execution_count": 781,
   "metadata": {},
   "outputs": [],
   "source": [
    "#From BIC, forwards also won"
   ]
  },
  {
   "cell_type": "code",
   "execution_count": 782,
   "metadata": {},
   "outputs": [],
   "source": [
    "#From these models .... comment ####"
   ]
  },
  {
   "cell_type": "code",
   "execution_count": 783,
   "metadata": {},
   "outputs": [],
   "source": [
    "set.seed(101)"
   ]
  },
  {
   "cell_type": "code",
   "execution_count": 784,
   "metadata": {},
   "outputs": [],
   "source": [
    "#install.packages(\"glmnet\")"
   ]
  },
  {
   "cell_type": "code",
   "execution_count": 785,
   "metadata": {},
   "outputs": [],
   "source": [
    "library(glmnet)"
   ]
  },
  {
   "cell_type": "code",
   "execution_count": 786,
   "metadata": {},
   "outputs": [],
   "source": [
    "var1 <- data[,-2]\n",
    "var2 <- var1[,-15]\n",
    "scaled_data <- scale(var2)\n",
    "\n",
    "polished_data <- cbind(scaled_data, data$So, data$Crime)\n",
    "colnames(polished_data)[15]<- 'So'\n",
    "colnames(polished_data)[16]<- 'Crime'\n",
    "\n"
   ]
  },
  {
   "cell_type": "code",
   "execution_count": null,
   "metadata": {},
   "outputs": [],
   "source": []
  },
  {
   "cell_type": "code",
   "execution_count": 787,
   "metadata": {},
   "outputs": [],
   "source": [
    "model_lasso <- cv.glmnet(x=as.matrix(polished_data[,-16]),\n",
    "                        y=as.matrix(polished_data[,16]),\n",
    "                        alpha = 1,\n",
    "                        nfolds=3,\n",
    "                        nlambda=20,\n",
    "                        type.measure=\"mse\",\n",
    "                        family=\"gaussian\",\n",
    "                        standardize=FALSE)"
   ]
  },
  {
   "cell_type": "code",
   "execution_count": 788,
   "metadata": {},
   "outputs": [],
   "source": [
    "#For Lasso, use alpha = 1. Ensure data is in matrix. For gaussian, mse \n",
    "#is a good selection for type.measure"
   ]
  },
  {
   "cell_type": "code",
   "execution_count": null,
   "metadata": {},
   "outputs": [],
   "source": []
  },
  {
   "cell_type": "code",
   "execution_count": 789,
   "metadata": {},
   "outputs": [],
   "source": [
    "#We can either scale the data before applying LASSO\n",
    "#or elastic net and set standarize=FALSE, or let the function \n",
    "#do the scaling for us. WE technically do not need to scale the\n",
    "#So column since it's binary, so that's a benefit of scaling it\n",
    "#ourself. (Data is manually scaled here)"
   ]
  },
  {
   "cell_type": "code",
   "execution_count": 790,
   "metadata": {
    "scrolled": true
   },
   "outputs": [
    {
     "data": {
      "text/plain": [
       "$lambda\n",
       " [1] 260.28146122 160.29387169  98.71669377  60.79449904  37.44018334\n",
       " [6]  23.05746985  14.19990151   8.74498391   5.38558268   3.31670144\n",
       "[11]   2.04258464   1.25792209   0.77468907   0.47709088   0.29381556\n",
       "[16]   0.18094579   0.11143514   0.06862713   0.04226390\n",
       "\n",
       "$cvm\n",
       " [1] 158076.51 148922.56 138893.65 113775.95  91526.60  73993.39  68400.75\n",
       " [8]  70107.02  74495.83  79258.01  83088.52  85443.92  87136.84  88147.84\n",
       "[15]  88913.59  89438.52  89778.26  89993.77  90130.54\n",
       "\n",
       "$cvsd\n",
       " [1] 59150.581 60503.114 53734.686 31076.383 16310.288  3474.618  7218.312\n",
       " [8]  9155.235  7543.649  6682.973  6602.072  7263.589  8148.952  8922.008\n",
       "[15]  9459.045  9808.385 10029.360 10167.421 10254.445\n",
       "\n",
       "$cvup\n",
       " [1] 217227.09 209425.67 192628.33 144852.33 107836.89  77468.00  75619.06\n",
       " [8]  79262.25  82039.48  85940.99  89690.60  92707.51  95285.79  97069.85\n",
       "[15]  98372.63  99246.90  99807.62 100161.19 100384.99\n",
       "\n",
       "$cvlo\n",
       " [1] 98925.93 88419.44 85158.96 82699.57 75216.31 70518.77 61182.44 60951.78\n",
       " [9] 66952.18 72575.04 76486.45 78180.33 78987.89 79225.83 79454.54 79630.13\n",
       "[17] 79748.90 79826.35 79876.10\n",
       "\n",
       "$nzero\n",
       " s0  s1  s2  s3  s4  s5  s6  s7  s8  s9 s10 s11 s12 s13 s14 s15 s16 s17 s18 \n",
       "  0   1   1   4   5   8   9  10  11  12  13  14  15  15  14  14  14  14  15 \n",
       "\n",
       "$name\n",
       "                 mse \n",
       "\"Mean-Squared Error\" \n",
       "\n",
       "$glmnet.fit\n",
       "\n",
       "Call:  glmnet(x = as.matrix(polished_data[, -16]), y = as.matrix(polished_data[,      16]), alpha = 1, nlambda = 20, family = \"gaussian\", standardize = FALSE) \n",
       "\n",
       "      Df   %Dev    Lambda\n",
       " [1,]  0 0.0000 260.30000\n",
       " [2,]  1 0.2935 160.30000\n",
       " [3,]  1 0.4048  98.72000\n",
       " [4,]  4 0.4772  60.79000\n",
       " [5,]  5 0.6197  37.44000\n",
       " [6,]  8 0.6983  23.06000\n",
       " [7,]  9 0.7451  14.20000\n",
       " [8,] 10 0.7741   8.74500\n",
       " [9,] 11 0.7881   5.38600\n",
       "[10,] 12 0.7936   3.31700\n",
       "[11,] 13 0.7958   2.04300\n",
       "[12,] 14 0.7969   1.25800\n",
       "[13,] 15 0.8004   0.77470\n",
       "[14,] 15 0.8020   0.47710\n",
       "[15,] 14 0.8026   0.29380\n",
       "[16,] 14 0.8029   0.18090\n",
       "[17,] 14 0.8030   0.11140\n",
       "[18,] 14 0.8030   0.06863\n",
       "[19,] 15 0.8031   0.04226\n",
       "[20,] 15 0.8031   0.02603\n",
       "\n",
       "$lambda.min\n",
       "[1] 14.1999\n",
       "\n",
       "$lambda.1se\n",
       "[1] 23.05747\n",
       "\n",
       "attr(,\"class\")\n",
       "[1] \"cv.glmnet\""
      ]
     },
     "metadata": {},
     "output_type": "display_data"
    }
   ],
   "source": [
    "model_lasso"
   ]
  },
  {
   "cell_type": "code",
   "execution_count": 791,
   "metadata": {},
   "outputs": [
    {
     "data": {
      "text/html": [
       "68400.7525821639"
      ],
      "text/latex": [
       "68400.7525821639"
      ],
      "text/markdown": [
       "68400.7525821639"
      ],
      "text/plain": [
       "[1] 68400.75"
      ]
     },
     "metadata": {},
     "output_type": "display_data"
    }
   ],
   "source": [
    "min(model_lasso$cvm)\n",
    "\n"
   ]
  },
  {
   "cell_type": "code",
   "execution_count": 792,
   "metadata": {},
   "outputs": [
    {
     "data": {
      "image/png": "[encoded data removed]",
      "text/plain": [
       "plot without title"
      ]
     },
     "metadata": {},
     "output_type": "display_data"
    }
   ],
   "source": [
    "plot(model_lasso)"
   ]
  },
  {
   "cell_type": "code",
   "execution_count": 793,
   "metadata": {},
   "outputs": [
    {
     "data": {
      "text/html": [
       "14.1999015071516"
      ],
      "text/latex": [
       "14.1999015071516"
      ],
      "text/markdown": [
       "14.1999015071516"
      ],
      "text/plain": [
       "[1] 14.1999"
      ]
     },
     "metadata": {},
     "output_type": "display_data"
    }
   ],
   "source": [
    "model_lasso$lambda.min"
   ]
  },
  {
   "cell_type": "code",
   "execution_count": 794,
   "metadata": {},
   "outputs": [
    {
     "data": {
      "text/html": [
       "<table>\n",
       "<tbody>\n",
       "\t<tr><th scope=row>s0</th><td>260.28146122</td><td>158076.51   </td><td> 0          </td></tr>\n",
       "\t<tr><th scope=row>s1</th><td>160.29387169</td><td>148922.56   </td><td> 1          </td></tr>\n",
       "\t<tr><th scope=row>s2</th><td> 98.71669377</td><td>138893.65   </td><td> 1          </td></tr>\n",
       "\t<tr><th scope=row>s3</th><td> 60.79449904</td><td>113775.95   </td><td> 4          </td></tr>\n",
       "\t<tr><th scope=row>s4</th><td> 37.44018334</td><td> 91526.60   </td><td> 5          </td></tr>\n",
       "\t<tr><th scope=row>s5</th><td> 23.05746985</td><td> 73993.39   </td><td> 8          </td></tr>\n",
       "\t<tr><th scope=row>s6</th><td> 14.19990151</td><td> 68400.75   </td><td> 9          </td></tr>\n",
       "\t<tr><th scope=row>s7</th><td>  8.74498391</td><td> 70107.02   </td><td>10          </td></tr>\n",
       "\t<tr><th scope=row>s8</th><td>  5.38558268</td><td> 74495.83   </td><td>11          </td></tr>\n",
       "\t<tr><th scope=row>s9</th><td>  3.31670144</td><td> 79258.01   </td><td>12          </td></tr>\n",
       "\t<tr><th scope=row>s10</th><td>  2.04258464</td><td> 83088.52   </td><td>13          </td></tr>\n",
       "\t<tr><th scope=row>s11</th><td>  1.25792209</td><td> 85443.92   </td><td>14          </td></tr>\n",
       "\t<tr><th scope=row>s12</th><td>  0.77468907</td><td> 87136.84   </td><td>15          </td></tr>\n",
       "\t<tr><th scope=row>s13</th><td>  0.47709088</td><td> 88147.84   </td><td>15          </td></tr>\n",
       "\t<tr><th scope=row>s14</th><td>  0.29381556</td><td> 88913.59   </td><td>14          </td></tr>\n",
       "\t<tr><th scope=row>s15</th><td>  0.18094579</td><td> 89438.52   </td><td>14          </td></tr>\n",
       "\t<tr><th scope=row>s16</th><td>  0.11143514</td><td> 89778.26   </td><td>14          </td></tr>\n",
       "\t<tr><th scope=row>s17</th><td>  0.06862713</td><td> 89993.77   </td><td>14          </td></tr>\n",
       "\t<tr><th scope=row>s18</th><td>  0.04226390</td><td> 90130.54   </td><td>15          </td></tr>\n",
       "</tbody>\n",
       "</table>\n"
      ],
      "text/latex": [
       "\\begin{tabular}{r|lll}\n",
       "\ts0 & 260.28146122 & 158076.51    &  0          \\\\\n",
       "\ts1 & 160.29387169 & 148922.56    &  1          \\\\\n",
       "\ts2 &  98.71669377 & 138893.65    &  1          \\\\\n",
       "\ts3 &  60.79449904 & 113775.95    &  4          \\\\\n",
       "\ts4 &  37.44018334 &  91526.60    &  5          \\\\\n",
       "\ts5 &  23.05746985 &  73993.39    &  8          \\\\\n",
       "\ts6 &  14.19990151 &  68400.75    &  9          \\\\\n",
       "\ts7 &   8.74498391 &  70107.02    & 10          \\\\\n",
       "\ts8 &   5.38558268 &  74495.83    & 11          \\\\\n",
       "\ts9 &   3.31670144 &  79258.01    & 12          \\\\\n",
       "\ts10 &   2.04258464 &  83088.52    & 13          \\\\\n",
       "\ts11 &   1.25792209 &  85443.92    & 14          \\\\\n",
       "\ts12 &   0.77468907 &  87136.84    & 15          \\\\\n",
       "\ts13 &   0.47709088 &  88147.84    & 15          \\\\\n",
       "\ts14 &   0.29381556 &  88913.59    & 14          \\\\\n",
       "\ts15 &   0.18094579 &  89438.52    & 14          \\\\\n",
       "\ts16 &   0.11143514 &  89778.26    & 14          \\\\\n",
       "\ts17 &   0.06862713 &  89993.77    & 14          \\\\\n",
       "\ts18 &   0.04226390 &  90130.54    & 15          \\\\\n",
       "\\end{tabular}\n"
      ],
      "text/markdown": [
       "\n",
       "| s0 | 260.28146122 | 158076.51    |  0           | \n",
       "| s1 | 160.29387169 | 148922.56    |  1           | \n",
       "| s2 |  98.71669377 | 138893.65    |  1           | \n",
       "| s3 |  60.79449904 | 113775.95    |  4           | \n",
       "| s4 |  37.44018334 |  91526.60    |  5           | \n",
       "| s5 |  23.05746985 |  73993.39    |  8           | \n",
       "| s6 |  14.19990151 |  68400.75    |  9           | \n",
       "| s7 |   8.74498391 |  70107.02    | 10           | \n",
       "| s8 |   5.38558268 |  74495.83    | 11           | \n",
       "| s9 |   3.31670144 |  79258.01    | 12           | \n",
       "| s10 |   2.04258464 |  83088.52    | 13           | \n",
       "| s11 |   1.25792209 |  85443.92    | 14           | \n",
       "| s12 |   0.77468907 |  87136.84    | 15           | \n",
       "| s13 |   0.47709088 |  88147.84    | 15           | \n",
       "| s14 |   0.29381556 |  88913.59    | 14           | \n",
       "| s15 |   0.18094579 |  89438.52    | 14           | \n",
       "| s16 |   0.11143514 |  89778.26    | 14           | \n",
       "| s17 |   0.06862713 |  89993.77    | 14           | \n",
       "| s18 |   0.04226390 |  90130.54    | 15           | \n",
       "\n",
       "\n"
      ],
      "text/plain": [
       "    [,1]         [,2]      [,3]\n",
       "s0  260.28146122 158076.51  0  \n",
       "s1  160.29387169 148922.56  1  \n",
       "s2   98.71669377 138893.65  1  \n",
       "s3   60.79449904 113775.95  4  \n",
       "s4   37.44018334  91526.60  5  \n",
       "s5   23.05746985  73993.39  8  \n",
       "s6   14.19990151  68400.75  9  \n",
       "s7    8.74498391  70107.02 10  \n",
       "s8    5.38558268  74495.83 11  \n",
       "s9    3.31670144  79258.01 12  \n",
       "s10   2.04258464  83088.52 13  \n",
       "s11   1.25792209  85443.92 14  \n",
       "s12   0.77468907  87136.84 15  \n",
       "s13   0.47709088  88147.84 15  \n",
       "s14   0.29381556  88913.59 14  \n",
       "s15   0.18094579  89438.52 14  \n",
       "s16   0.11143514  89778.26 14  \n",
       "s17   0.06862713  89993.77 14  \n",
       "s18   0.04226390  90130.54 15  "
      ]
     },
     "metadata": {},
     "output_type": "display_data"
    },
    {
     "data": {
      "text/plain": [
       "16 x 1 sparse Matrix of class \"dgCMatrix\"\n",
       "                     1\n",
       "(Intercept) 905.085106\n",
       "M            80.585271\n",
       "Ed           99.859908\n",
       "Po1         312.246311\n",
       "Po2           .       \n",
       "LF            .       \n",
       "M.F          47.146492\n",
       "Pop           .       \n",
       "NW            9.318718\n",
       "U1           -5.365746\n",
       "U2           34.448070\n",
       "Wealth        .       \n",
       "Ineq        173.152039\n",
       "Prob        -73.276673\n",
       "Time          .       \n",
       "So            .       "
      ]
     },
     "metadata": {},
     "output_type": "display_data"
    }
   ],
   "source": [
    "cbind(model_lasso$lambda, model_lasso$cvm, model_lasso$nzero)\n",
    "coef(model_lasso, s=model_lasso$lambda.min)"
   ]
  },
  {
   "cell_type": "code",
   "execution_count": 795,
   "metadata": {},
   "outputs": [],
   "source": [
    "#At lambda minimum, there were 9 variables. Rerun this regression."
   ]
  },
  {
   "cell_type": "code",
   "execution_count": 796,
   "metadata": {},
   "outputs": [],
   "source": [
    "#So lasso chose 9 variables with it's budget constraint.\n",
    "#Let's see what an ordinary regression looks like with these\n",
    "#variables and cross-validation."
   ]
  },
  {
   "cell_type": "code",
   "execution_count": 797,
   "metadata": {},
   "outputs": [
    {
     "name": "stdout",
     "output_type": "stream",
     "text": [
      "Linear Regression \n",
      "\n",
      "47 samples\n",
      "10 predictors\n",
      "\n",
      "No pre-processing\n",
      "Resampling: Cross-Validated (4 fold, repeated 5 times) \n",
      "Summary of sample sizes: 36, 35, 35, 35, 35, 35, ... \n",
      "Resampling results:\n",
      "\n",
      "  RMSE      Rsquared   MAE     \n",
      "  238.3347  0.6447677  186.5814\n",
      "\n",
      "Tuning parameter 'intercept' was held constant at a value of TRUE\n"
     ]
    }
   ],
   "source": [
    "train_control <- trainControl(method=\"repeatedcv\", number=4, repeats=5)\n",
    "# train the model\n",
    "model_lasso1 <- train(Crime~ LF + M.F + NW + Po1 + Ineq + Ed + M + Prob + U2+U1, \n",
    "                    data=data, trControl=train_control, method=\"lm\")\n",
    "# summarize results\n",
    "print(model_lasso1)"
   ]
  },
  {
   "cell_type": "code",
   "execution_count": 798,
   "metadata": {},
   "outputs": [],
   "source": [
    "# 64% is an average R-squared, and that's not even penalizing it for keeping so\n",
    "#many variables. I tend to think that 9 variables is too much to maintain\n",
    "#a simplistic model, especially when the R-squared is actually relatively lower."
   ]
  },
  {
   "cell_type": "code",
   "execution_count": 799,
   "metadata": {},
   "outputs": [],
   "source": [
    "mse_list <- numeric()"
   ]
  },
  {
   "cell_type": "code",
   "execution_count": 800,
   "metadata": {},
   "outputs": [],
   "source": [
    "find_alpha <- function(num, polished_data){\n",
    "    \n",
    "    alpha <- num\n",
    "    model_elasticNet_loop <- cv.glmnet(x=as.matrix(polished_data[,-16]),\n",
    "                        y=as.matrix(polished_data[,16]),\n",
    "                        alpha = alpha,\n",
    "                        nfolds=3,\n",
    "                        nlambda=20,\n",
    "                        type.measure=\"mse\",\n",
    "                        family=\"gaussian\",\n",
    "                        standardize=FALSE)\n",
    "    \n",
    "        mse_list <<- cbind(mse_list, c(alpha, min(model_elasticNet_loop$cvm),\n",
    "                                       model_elasticNet_loop$lambda.min) )\n",
    "            #print(c(alpha, min(model_lasso_loop$cvm),model_lasso_loop$lambda.min ))\n",
    "    \n",
    "}"
   ]
  },
  {
   "cell_type": "code",
   "execution_count": 801,
   "metadata": {},
   "outputs": [],
   "source": [
    "for (i in seq(.01,1,by = .01)){find_alpha(i,polished_data)}"
   ]
  },
  {
   "cell_type": "code",
   "execution_count": 802,
   "metadata": {},
   "outputs": [
    {
     "data": {
      "text/html": [
       "<table>\n",
       "<tbody>\n",
       "\t<tr><td>    0.01000 </td><td>    0.02000 </td><td>    0.03000 </td><td>    0.04000 </td><td>    0.05000 </td><td>    0.06000 </td><td>    0.0700  </td><td>    0.08000 </td><td>    0.09000 </td><td>    0.10000 </td><td>⋯           </td><td>    0.91000 </td><td>    0.92000 </td><td>    0.93000 </td><td>    0.940000</td><td>    0.950000</td><td>    0.960000</td><td>    0.970000</td><td>    0.980000</td><td>    0.990000</td><td>    1.000000</td></tr>\n",
       "\t<tr><td>77942.54787 </td><td>54276.08304 </td><td>64452.05384 </td><td>67965.26058 </td><td>62625.93780 </td><td>58069.98883 </td><td>65669.4082  </td><td>65255.36093 </td><td>67745.54701 </td><td>74882.30311 </td><td>⋯           </td><td>75616.83531 </td><td>56089.27985 </td><td>82914.62580 </td><td>84677.012530</td><td>71803.756804</td><td>65873.027580</td><td>59275.574512</td><td>77988.711910</td><td>65131.844366</td><td>64962.767485</td></tr>\n",
       "\t<tr><td>   47.70909 </td><td>   14.69078 </td><td>   68.08615 </td><td>   19.36723 </td><td>   40.85169 </td><td>   12.91148 </td><td>   76.9369  </td><td>   41.45877 </td><td>   36.85224 </td><td>   33.16701 </td><td>⋯           </td><td>   15.60429 </td><td>   15.43468 </td><td>   40.25826 </td><td>    9.303174</td><td>    3.491265</td><td>    5.609982</td><td>    5.552147</td><td>    8.923453</td><td>    3.350203</td><td>    8.744984</td></tr>\n",
       "</tbody>\n",
       "</table>\n"
      ],
      "text/latex": [
       "\\begin{tabular}{llllllllllllllllllllllllllllllllllllllllllllllllllllllllllllllllllllllllllllllllllllllllllllllllllll}\n",
       "\t     0.01000  &     0.02000  &     0.03000  &     0.04000  &     0.05000  &     0.06000  &     0.0700   &     0.08000  &     0.09000  &     0.10000  & ⋯            &     0.91000  &     0.92000  &     0.93000  &     0.940000 &     0.950000 &     0.960000 &     0.970000 &     0.980000 &     0.990000 &     1.000000\\\\\n",
       "\t 77942.54787  & 54276.08304  & 64452.05384  & 67965.26058  & 62625.93780  & 58069.98883  & 65669.4082   & 65255.36093  & 67745.54701  & 74882.30311  & ⋯            & 75616.83531  & 56089.27985  & 82914.62580  & 84677.012530 & 71803.756804 & 65873.027580 & 59275.574512 & 77988.711910 & 65131.844366 & 64962.767485\\\\\n",
       "\t    47.70909  &    14.69078  &    68.08615  &    19.36723  &    40.85169  &    12.91148  &    76.9369   &    41.45877  &    36.85224  &    33.16701  & ⋯            &    15.60429  &    15.43468  &    40.25826  &     9.303174 &     3.491265 &     5.609982 &     5.552147 &     8.923453 &     3.350203 &     8.744984\\\\\n",
       "\\end{tabular}\n"
      ],
      "text/markdown": [
       "\n",
       "|     0.01000  |     0.02000  |     0.03000  |     0.04000  |     0.05000  |     0.06000  |     0.0700   |     0.08000  |     0.09000  |     0.10000  | ⋯            |     0.91000  |     0.92000  |     0.93000  |     0.940000 |     0.950000 |     0.960000 |     0.970000 |     0.980000 |     0.990000 |     1.000000 | \n",
       "| 77942.54787  | 54276.08304  | 64452.05384  | 67965.26058  | 62625.93780  | 58069.98883  | 65669.4082   | 65255.36093  | 67745.54701  | 74882.30311  | ⋯            | 75616.83531  | 56089.27985  | 82914.62580  | 84677.012530 | 71803.756804 | 65873.027580 | 59275.574512 | 77988.711910 | 65131.844366 | 64962.767485 | \n",
       "|    47.70909  |    14.69078  |    68.08615  |    19.36723  |    40.85169  |    12.91148  |    76.9369   |    41.45877  |    36.85224  |    33.16701  | ⋯            |    15.60429  |    15.43468  |    40.25826  |     9.303174 |     3.491265 |     5.609982 |     5.552147 |     8.923453 |     3.350203 |     8.744984 | \n",
       "\n",
       "\n"
      ],
      "text/plain": [
       "     [,1]        [,2]        [,3]        [,4]        [,5]        [,6]       \n",
       "[1,]     0.01000     0.02000     0.03000     0.04000     0.05000     0.06000\n",
       "[2,] 77942.54787 54276.08304 64452.05384 67965.26058 62625.93780 58069.98883\n",
       "[3,]    47.70909    14.69078    68.08615    19.36723    40.85169    12.91148\n",
       "     [,7]       [,8]        [,9]        [,10]       [,11] [,12]      \n",
       "[1,]     0.0700     0.08000     0.09000     0.10000 ⋯         0.91000\n",
       "[2,] 65669.4082 65255.36093 67745.54701 74882.30311 ⋯     75616.83531\n",
       "[3,]    76.9369    41.45877    36.85224    33.16701 ⋯        15.60429\n",
       "     [,13]       [,14]       [,15]        [,16]        [,17]       \n",
       "[1,]     0.92000     0.93000     0.940000     0.950000     0.960000\n",
       "[2,] 56089.27985 82914.62580 84677.012530 71803.756804 65873.027580\n",
       "[3,]    15.43468    40.25826     9.303174     3.491265     5.609982\n",
       "     [,18]        [,19]        [,20]        [,21]       \n",
       "[1,]     0.970000     0.980000     0.990000     1.000000\n",
       "[2,] 59275.574512 77988.711910 65131.844366 64962.767485\n",
       "[3,]     5.552147     8.923453     3.350203     8.744984"
      ]
     },
     "metadata": {},
     "output_type": "display_data"
    }
   ],
   "source": [
    "mse_list"
   ]
  },
  {
   "cell_type": "code",
   "execution_count": 803,
   "metadata": {},
   "outputs": [
    {
     "data": {
      "text/html": [
       "90"
      ],
      "text/latex": [
       "90"
      ],
      "text/markdown": [
       "90"
      ],
      "text/plain": [
       "[1] 90"
      ]
     },
     "metadata": {},
     "output_type": "display_data"
    }
   ],
   "source": [
    "which.min(mse_list[2,])"
   ]
  },
  {
   "cell_type": "code",
   "execution_count": 804,
   "metadata": {},
   "outputs": [],
   "source": [
    "minIndex <- which.min(mse_list[2,])"
   ]
  },
  {
   "cell_type": "code",
   "execution_count": 805,
   "metadata": {},
   "outputs": [
    {
     "data": {
      "text/html": [
       "52583.7617325898"
      ],
      "text/latex": [
       "52583.7617325898"
      ],
      "text/markdown": [
       "52583.7617325898"
      ],
      "text/plain": [
       "[1] 52583.76"
      ]
     },
     "metadata": {},
     "output_type": "display_data"
    }
   ],
   "source": [
    "mse_list[2,minIndex]"
   ]
  },
  {
   "cell_type": "code",
   "execution_count": 806,
   "metadata": {},
   "outputs": [],
   "source": [
    "#Our minimum value for mse was when alpha was minIndex with an mse listed below:"
   ]
  },
  {
   "cell_type": "code",
   "execution_count": 807,
   "metadata": {},
   "outputs": [
    {
     "data": {
      "text/html": [
       "52583.7617325898"
      ],
      "text/latex": [
       "52583.7617325898"
      ],
      "text/markdown": [
       "52583.7617325898"
      ],
      "text/plain": [
       "[1] 52583.76"
      ]
     },
     "metadata": {},
     "output_type": "display_data"
    }
   ],
   "source": [
    "minMSE <- mse_list[2,minIndex]\n",
    "minMSE"
   ]
  },
  {
   "cell_type": "code",
   "execution_count": 808,
   "metadata": {},
   "outputs": [],
   "source": [
    "#So Elastic Net chose an alpha of .9. Let's look at the coefficients"
   ]
  },
  {
   "cell_type": "code",
   "execution_count": 809,
   "metadata": {},
   "outputs": [],
   "source": [
    "alpha <- .9\n",
    "    model_elasticNet2 <- cv.glmnet(x=as.matrix(polished_data[,-16]),\n",
    "                        y=as.matrix(polished_data[,16]),\n",
    "                        alpha = alpha,\n",
    "                        nfolds=3,\n",
    "                        nlambda=20,\n",
    "                        type.measure=\"mse\",\n",
    "                        family=\"gaussian\",\n",
    "                        standardize=FALSE)"
   ]
  },
  {
   "cell_type": "code",
   "execution_count": 810,
   "metadata": {},
   "outputs": [
    {
     "data": {
      "text/plain": [
       "16 x 1 sparse Matrix of class \"dgCMatrix\"\n",
       "                     1\n",
       "(Intercept) 905.085106\n",
       "M            78.812086\n",
       "Ed           97.486993\n",
       "Po1         307.588426\n",
       "Po2           .       \n",
       "LF            .       \n",
       "M.F          48.555544\n",
       "Pop           .       \n",
       "NW           12.081070\n",
       "U1           -6.940233\n",
       "U2           35.251938\n",
       "Wealth        .       \n",
       "Ineq        167.318242\n",
       "Prob        -73.813385\n",
       "Time          .       \n",
       "So            .       "
      ]
     },
     "metadata": {},
     "output_type": "display_data"
    }
   ],
   "source": [
    "coef(model_elasticNet2, s=model_elasticNet2$lambda.min)"
   ]
  },
  {
   "cell_type": "code",
   "execution_count": 811,
   "metadata": {},
   "outputs": [],
   "source": [
    "#As runs the debate, we'll do a cross-validated linear \n",
    "#regression on these 9 variables"
   ]
  },
  {
   "cell_type": "code",
   "execution_count": 812,
   "metadata": {},
   "outputs": [
    {
     "name": "stdout",
     "output_type": "stream",
     "text": [
      "Linear Regression \n",
      "\n",
      "47 samples\n",
      " 9 predictor\n",
      "\n",
      "No pre-processing\n",
      "Resampling: Cross-Validated (4 fold, repeated 5 times) \n",
      "Summary of sample sizes: 35, 35, 36, 35, 35, 35, ... \n",
      "Resampling results:\n",
      "\n",
      "  RMSE      Rsquared   MAE     \n",
      "  227.0929  0.6793083  182.2647\n",
      "\n",
      "Tuning parameter 'intercept' was held constant at a value of TRUE\n"
     ]
    }
   ],
   "source": [
    "# define training control\n",
    "train_control <- trainControl(method=\"repeatedcv\", \n",
    "                              number=4, repeats=5)\n",
    "# train the model\n",
    "chosen_by_elasticNet_model <- train(Crime~M + Ed + Po1 + M.F + \n",
    "                            NW + U1 + U2  + Ineq + Prob, \n",
    "                            data=data, trControl=train_control, method=\"lm\")\n",
    "# summarize results\n",
    "print(chosen_by_elasticNet_model)\n",
    "\n"
   ]
  },
  {
   "cell_type": "code",
   "execution_count": 813,
   "metadata": {},
   "outputs": [],
   "source": [
    "#Likely, this is a pretty good model with a cross-validated R-squared of 66. \n",
    "#But we may still want to choose a simpler model"
   ]
  },
  {
   "cell_type": "code",
   "execution_count": 814,
   "metadata": {},
   "outputs": [
    {
     "data": {
      "text/html": [
       "642.254585198537"
      ],
      "text/latex": [
       "642.254585198537"
      ],
      "text/markdown": [
       "642.254585198537"
      ],
      "text/plain": [
       "[1] 642.2546"
      ]
     },
     "metadata": {},
     "output_type": "display_data"
    }
   ],
   "source": [
    "elastic_AIC <- AIC(lm( Crime~M + Ed + Po1 + M.F +NW + U1 + U2 + \n",
    "                      Wealth + Ineq + Prob, data=data ))\n",
    "elastic_AIC"
   ]
  },
  {
   "cell_type": "code",
   "execution_count": 815,
   "metadata": {},
   "outputs": [
    {
     "data": {
      "text/html": [
       "651.431055786772"
      ],
      "text/latex": [
       "651.431055786772"
      ],
      "text/markdown": [
       "651.431055786772"
      ],
      "text/plain": [
       "[1] 651.4311"
      ]
     },
     "metadata": {},
     "output_type": "display_data"
    }
   ],
   "source": [
    "elastic_AICc <- AICc(lm(Crime~M + Ed + Po1 + M.F +NW + U1 + U2 + Wealth + \n",
    "                        Ineq + Prob, data=data))\n",
    "elastic_AICc"
   ]
  },
  {
   "cell_type": "code",
   "execution_count": 816,
   "metadata": {},
   "outputs": [
    {
     "data": {
      "text/html": [
       "664.456356419058"
      ],
      "text/latex": [
       "664.456356419058"
      ],
      "text/markdown": [
       "664.456356419058"
      ],
      "text/plain": [
       "[1] 664.4564"
      ]
     },
     "metadata": {},
     "output_type": "display_data"
    }
   ],
   "source": [
    "elastic_BIC <- BIC(lm(Crime~M + Ed + Po1 + M.F +NW + U1 + U2 + Wealth + \n",
    "                      Ineq + Prob, data=data))\n",
    "elastic_BIC"
   ]
  },
  {
   "cell_type": "code",
   "execution_count": 817,
   "metadata": {},
   "outputs": [],
   "source": [
    "PCA <- prcomp(data[,1:15], scale = T)"
   ]
  },
  {
   "cell_type": "code",
   "execution_count": 818,
   "metadata": {},
   "outputs": [],
   "source": [
    "PC <- PCA$x[,1:6]"
   ]
  },
  {
   "cell_type": "code",
   "execution_count": 819,
   "metadata": {},
   "outputs": [],
   "source": [
    "uscrimePC <- cbind(PC, data[,16])"
   ]
  },
  {
   "cell_type": "code",
   "execution_count": 820,
   "metadata": {},
   "outputs": [],
   "source": [
    "uscrimePC2 <- cbind(PCA$x[,1:15], data[,16])"
   ]
  },
  {
   "cell_type": "code",
   "execution_count": 821,
   "metadata": {},
   "outputs": [],
   "source": [
    "modelPCA <- lm(V7~., data = as.data.frame(uscrimePC))"
   ]
  },
  {
   "cell_type": "code",
   "execution_count": 822,
   "metadata": {
    "scrolled": true
   },
   "outputs": [
    {
     "data": {
      "text/plain": [
       "\n",
       "Call:\n",
       "lm(formula = V7 ~ ., data = as.data.frame(uscrimePC))\n",
       "\n",
       "Residuals:\n",
       "    Min      1Q  Median      3Q     Max \n",
       "-377.15 -172.23   25.81  132.10  480.38 \n",
       "\n",
       "Coefficients:\n",
       "            Estimate Std. Error t value Pr(>|t|)    \n",
       "(Intercept)   905.09      35.35  25.604  < 2e-16 ***\n",
       "PC1            65.22      14.56   4.478 6.14e-05 ***\n",
       "PC2           -70.08      21.35  -3.283  0.00214 ** \n",
       "PC3            25.19      25.23   0.998  0.32409    \n",
       "PC4            69.45      33.14   2.095  0.04252 *  \n",
       "PC5          -229.04      36.50  -6.275 1.94e-07 ***\n",
       "PC6           -60.21      48.04  -1.253  0.21734    \n",
       "---\n",
       "Signif. codes:  0 ‘***’ 0.001 ‘**’ 0.01 ‘*’ 0.05 ‘.’ 0.1 ‘ ’ 1\n",
       "\n",
       "Residual standard error: 242.3 on 40 degrees of freedom\n",
       "Multiple R-squared:  0.6586,\tAdjusted R-squared:  0.6074 \n",
       "F-statistic: 12.86 on 6 and 40 DF,  p-value: 4.869e-08\n"
      ]
     },
     "metadata": {},
     "output_type": "display_data"
    }
   ],
   "source": [
    "summary(modelPCA)"
   ]
  },
  {
   "cell_type": "code",
   "execution_count": 823,
   "metadata": {},
   "outputs": [],
   "source": [
    "#So with PCA, we can still get R-squared of 66% with only 6 variables"
   ]
  },
  {
   "cell_type": "code",
   "execution_count": 824,
   "metadata": {},
   "outputs": [],
   "source": [
    "#Let's use lasso on PCA data"
   ]
  },
  {
   "cell_type": "code",
   "execution_count": 825,
   "metadata": {},
   "outputs": [],
   "source": [
    "model_Lasso_pca <- cv.glmnet(x=as.matrix(uscrimePC2[,1:15]),\n",
    "                        y=as.matrix(uscrimePC2[,16]),\n",
    "                        alpha = 1,\n",
    "                        nfolds=3,\n",
    "                        nlambda=20,\n",
    "                        type.measure=\"mse\",\n",
    "                        family=\"gaussian\",\n",
    "                        standardize=FALSE)"
   ]
  },
  {
   "cell_type": "code",
   "execution_count": 826,
   "metadata": {},
   "outputs": [],
   "source": [
    "#What's unclear is what to do to interpret this data"
   ]
  },
  {
   "cell_type": "code",
   "execution_count": 827,
   "metadata": {},
   "outputs": [
    {
     "data": {
      "text/plain": [
       "           Length Class  Mode     \n",
       "lambda     19     -none- numeric  \n",
       "cvm        19     -none- numeric  \n",
       "cvsd       19     -none- numeric  \n",
       "cvup       19     -none- numeric  \n",
       "cvlo       19     -none- numeric  \n",
       "nzero      19     -none- numeric  \n",
       "name        1     -none- character\n",
       "glmnet.fit 12     elnet  list     \n",
       "lambda.min  1     -none- numeric  \n",
       "lambda.1se  1     -none- numeric  "
      ]
     },
     "metadata": {},
     "output_type": "display_data"
    }
   ],
   "source": [
    "summary(model_Lasso_pca)"
   ]
  },
  {
   "cell_type": "code",
   "execution_count": null,
   "metadata": {},
   "outputs": [],
   "source": []
  },
  {
   "cell_type": "code",
   "execution_count": 828,
   "metadata": {},
   "outputs": [
    {
     "data": {
      "text/plain": [
       "16 x 1 sparse Matrix of class \"dgCMatrix\"\n",
       "                     1\n",
       "(Intercept)  905.08511\n",
       "PC1           61.65801\n",
       "PC2          -62.43997\n",
       "PC3           14.51302\n",
       "PC4           51.01995\n",
       "PC5         -206.69600\n",
       "PC6          -21.50185\n",
       "PC7           50.71243\n",
       "PC8            .      \n",
       "PC9            .      \n",
       "PC10           .      \n",
       "PC11           .      \n",
       "PC12         122.55728\n",
       "PC13           .      \n",
       "PC14           .      \n",
       "PC15           .      "
      ]
     },
     "metadata": {},
     "output_type": "display_data"
    }
   ],
   "source": [
    "coef(model_Lasso_pca, s=model_Lasso_pca$lambda.min)"
   ]
  },
  {
   "cell_type": "code",
   "execution_count": 829,
   "metadata": {},
   "outputs": [],
   "source": [
    "scaled_data <- as.data.frame(scaled_data)"
   ]
  },
  {
   "cell_type": "code",
   "execution_count": 830,
   "metadata": {},
   "outputs": [],
   "source": [
    "#This just in. The below regression is advised by method=leapSeq. \n",
    "#See further below for more details"
   ]
  },
  {
   "cell_type": "code",
   "execution_count": 831,
   "metadata": {},
   "outputs": [],
   "source": [
    "mod <- lm(Crime ~ Ed + Po1 + Ineq, data = data )"
   ]
  },
  {
   "cell_type": "code",
   "execution_count": 832,
   "metadata": {},
   "outputs": [
    {
     "data": {
      "text/plain": [
       "\n",
       "Call:\n",
       "lm(formula = Crime ~ Ed + Po1 + Ineq, data = data)\n",
       "\n",
       "Residuals:\n",
       "    Min      1Q  Median      3Q     Max \n",
       "-590.30 -102.06   -1.73  129.16  511.60 \n",
       "\n",
       "Coefficients:\n",
       "            Estimate Std. Error t value Pr(>|t|)    \n",
       "(Intercept) -3275.41     769.14  -4.259  0.00011 ***\n",
       "Ed            157.87      47.66   3.312  0.00188 ** \n",
       "Po1           124.31      14.79   8.408 1.26e-10 ***\n",
       "Ineq           75.06      15.08   4.978 1.09e-05 ***\n",
       "---\n",
       "Signif. codes:  0 ‘***’ 0.001 ‘**’ 0.01 ‘*’ 0.05 ‘.’ 0.1 ‘ ’ 1\n",
       "\n",
       "Residual standard error: 231.3 on 43 degrees of freedom\n",
       "Multiple R-squared:  0.6656,\tAdjusted R-squared:  0.6423 \n",
       "F-statistic: 28.53 on 3 and 43 DF,  p-value: 2.59e-10\n"
      ]
     },
     "metadata": {},
     "output_type": "display_data"
    }
   ],
   "source": [
    "summary(mod)"
   ]
  },
  {
   "cell_type": "code",
   "execution_count": 833,
   "metadata": {},
   "outputs": [],
   "source": [
    "scaled_data <- cbind(scaled_data,data[16])"
   ]
  },
  {
   "cell_type": "code",
   "execution_count": null,
   "metadata": {},
   "outputs": [],
   "source": []
  },
  {
   "cell_type": "code",
   "execution_count": 834,
   "metadata": {},
   "outputs": [],
   "source": [
    "#install.packages('leaps')"
   ]
  },
  {
   "cell_type": "code",
   "execution_count": 835,
   "metadata": {},
   "outputs": [],
   "source": [
    "library(leaps)"
   ]
  },
  {
   "cell_type": "code",
   "execution_count": 836,
   "metadata": {},
   "outputs": [],
   "source": [
    "#Let's use a leap sequence"
   ]
  },
  {
   "cell_type": "code",
   "execution_count": 837,
   "metadata": {},
   "outputs": [],
   "source": [
    "control <- trainControl(method = \"repeatedcv\", number = 5, repeats = 5)"
   ]
  },
  {
   "cell_type": "code",
   "execution_count": 838,
   "metadata": {
    "scrolled": true
   },
   "outputs": [],
   "source": [
    "lm_step <- train(Crime ~., data = data, method = \"leapSeq\", \n",
    "                     tuneGrid = data.frame(nvmax = 1:15), trControl = control)"
   ]
  },
  {
   "cell_type": "code",
   "execution_count": 839,
   "metadata": {},
   "outputs": [
    {
     "data": {
      "text/plain": [
       "Subset selection object\n",
       "15 Variables  (and intercept)\n",
       "       Forced in Forced out\n",
       "M          FALSE      FALSE\n",
       "So         FALSE      FALSE\n",
       "Ed         FALSE      FALSE\n",
       "Po1        FALSE      FALSE\n",
       "Po2        FALSE      FALSE\n",
       "LF         FALSE      FALSE\n",
       "M.F        FALSE      FALSE\n",
       "Pop        FALSE      FALSE\n",
       "NW         FALSE      FALSE\n",
       "U1         FALSE      FALSE\n",
       "U2         FALSE      FALSE\n",
       "Wealth     FALSE      FALSE\n",
       "Ineq       FALSE      FALSE\n",
       "Prob       FALSE      FALSE\n",
       "Time       FALSE      FALSE\n",
       "1 subsets of each size up to 7\n",
       "Selection Algorithm: 'sequential replacement'\n",
       "         M   So  Ed  Po1 Po2 LF  M.F Pop NW  U1  U2  Wealth Ineq Prob Time\n",
       "1  ( 1 ) \" \" \" \" \" \" \"*\" \" \" \" \" \" \" \" \" \" \" \" \" \" \" \" \"    \" \"  \" \"  \" \" \n",
       "2  ( 1 ) \" \" \" \" \" \" \"*\" \" \" \" \" \" \" \" \" \" \" \" \" \" \" \" \"    \"*\"  \" \"  \" \" \n",
       "3  ( 1 ) \" \" \" \" \"*\" \"*\" \" \" \" \" \" \" \" \" \" \" \" \" \" \" \" \"    \"*\"  \" \"  \" \" \n",
       "4  ( 1 ) \"*\" \"*\" \"*\" \"*\" \" \" \" \" \" \" \" \" \" \" \" \" \" \" \" \"    \" \"  \" \"  \" \" \n",
       "5  ( 1 ) \"*\" \" \" \"*\" \"*\" \" \" \" \" \" \" \" \" \" \" \" \" \" \" \" \"    \"*\"  \"*\"  \" \" \n",
       "6  ( 1 ) \"*\" \" \" \"*\" \"*\" \" \" \" \" \" \" \" \" \" \" \" \" \"*\" \" \"    \"*\"  \"*\"  \" \" \n",
       "7  ( 1 ) \"*\" \" \" \"*\" \"*\" \" \" \" \" \" \" \" \" \" \" \" \" \"*\" \"*\"    \"*\"  \"*\"  \" \" "
      ]
     },
     "metadata": {},
     "output_type": "display_data"
    }
   ],
   "source": [
    "summary(lm_step)"
   ]
  },
  {
   "cell_type": "code",
   "execution_count": 840,
   "metadata": {},
   "outputs": [],
   "source": [
    "#The grid says if we try 3 variables, they should be Po1, Ed and Ineq"
   ]
  },
  {
   "cell_type": "code",
   "execution_count": 841,
   "metadata": {},
   "outputs": [
    {
     "data": {
      "text/plain": [
       "\n",
       "Call:\n",
       "lm(formula = Crime ~ Ed + Po1 + Ineq, data = scaled_data)\n",
       "\n",
       "Residuals:\n",
       "    Min      1Q  Median      3Q     Max \n",
       "-590.30 -102.06   -1.73  129.16  511.60 \n",
       "\n",
       "Coefficients:\n",
       "            Estimate Std. Error t value Pr(>|t|)    \n",
       "(Intercept)   905.09      33.74  26.825  < 2e-16 ***\n",
       "Ed            176.61      53.32   3.312  0.00188 ** \n",
       "Po1           369.45      43.94   8.408 1.26e-10 ***\n",
       "Ineq          299.45      60.15   4.978 1.09e-05 ***\n",
       "---\n",
       "Signif. codes:  0 ‘***’ 0.001 ‘**’ 0.01 ‘*’ 0.05 ‘.’ 0.1 ‘ ’ 1\n",
       "\n",
       "Residual standard error: 231.3 on 43 degrees of freedom\n",
       "Multiple R-squared:  0.6656,\tAdjusted R-squared:  0.6423 \n",
       "F-statistic: 28.53 on 3 and 43 DF,  p-value: 2.59e-10\n"
      ]
     },
     "metadata": {},
     "output_type": "display_data"
    }
   ],
   "source": [
    "mod2 <- lm(Crime ~ Ed + Po1 + Ineq, data = scaled_data )\n",
    "summary(mod2)"
   ]
  },
  {
   "cell_type": "code",
   "execution_count": 842,
   "metadata": {},
   "outputs": [],
   "source": [
    "#Mind-blowing ###  We really only needed 3 variables"
   ]
  },
  {
   "cell_type": "code",
   "execution_count": 843,
   "metadata": {},
   "outputs": [
    {
     "data": {
      "text/html": [
       "650.914485323751"
      ],
      "text/latex": [
       "650.914485323751"
      ],
      "text/markdown": [
       "650.914485323751"
      ],
      "text/plain": [
       "[1] 650.9145"
      ]
     },
     "metadata": {},
     "output_type": "display_data"
    }
   ],
   "source": [
    "leap_AIC <- AIC(lm(Crime~Ed + Po1 + Ineq, data=data))\n",
    "leap_AIC"
   ]
  },
  {
   "cell_type": "code",
   "execution_count": 844,
   "metadata": {},
   "outputs": [
    {
     "data": {
      "text/html": [
       "652.377899957897"
      ],
      "text/latex": [
       "652.377899957897"
      ],
      "text/markdown": [
       "652.377899957897"
      ],
      "text/plain": [
       "[1] 652.3779"
      ]
     },
     "metadata": {},
     "output_type": "display_data"
    }
   ],
   "source": [
    "leap_AICc <- AICc(lm(Crime~Ed + Po1 + Ineq, data=data))\n",
    "leap_AICc"
   ]
  },
  {
   "cell_type": "code",
   "execution_count": 845,
   "metadata": {},
   "outputs": [
    {
     "data": {
      "text/html": [
       "660.165223332301"
      ],
      "text/latex": [
       "660.165223332301"
      ],
      "text/markdown": [
       "660.165223332301"
      ],
      "text/plain": [
       "[1] 660.1652"
      ]
     },
     "metadata": {},
     "output_type": "display_data"
    }
   ],
   "source": [
    "leap_BIC <- BIC(lm(Crime~Ed + Po1 + Ineq, data=data))\n",
    "leap_BIC"
   ]
  },
  {
   "cell_type": "code",
   "execution_count": 846,
   "metadata": {},
   "outputs": [],
   "source": [
    "# Very comparable AIC and BIC to earlier models!"
   ]
  }
 ],
 "metadata": {
  "kernelspec": {
   "display_name": "R",
   "language": "R",
   "name": "ir"
  },
  "language_info": {
   "codemirror_mode": "r",
   "file_extension": ".r",
   "mimetype": "text/x-r-source",
   "name": "R",
   "pygments_lexer": "r",
   "version": "3.4.1"
  }
 },
 "nbformat": 4,
 "nbformat_minor": 2
}
