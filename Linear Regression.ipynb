{
 "cells": [
  {
   "cell_type": "code",
   "execution_count": 113,
   "metadata": {},
   "outputs": [],
   "source": [
    "#Linear Regression HW 5"
   ]
  },
  {
   "cell_type": "code",
   "execution_count": 114,
   "metadata": {},
   "outputs": [],
   "source": [
    "rm(list = ls()) #Remove prior variables"
   ]
  },
  {
   "cell_type": "code",
   "execution_count": null,
   "metadata": {},
   "outputs": [],
   "source": [
    "#Read in data"
   ]
  },
  {
   "cell_type": "code",
   "execution_count": 115,
   "metadata": {},
   "outputs": [],
   "source": [
    "data <- read.table('uscrime.txt', stringsAsFactors = FALSE, header = TRUE)"
   ]
  },
  {
   "cell_type": "code",
   "execution_count": null,
   "metadata": {},
   "outputs": [],
   "source": [
    "#Check data is loaded"
   ]
  },
  {
   "cell_type": "code",
   "execution_count": 117,
   "metadata": {},
   "outputs": [
    {
     "data": {
      "text/html": [
       "<table>\n",
       "<thead><tr><th scope=col>M</th><th scope=col>So</th><th scope=col>Ed</th><th scope=col>Po1</th><th scope=col>Po2</th><th scope=col>LF</th><th scope=col>M.F</th><th scope=col>Pop</th><th scope=col>NW</th><th scope=col>U1</th><th scope=col>U2</th><th scope=col>Wealth</th><th scope=col>Ineq</th><th scope=col>Prob</th><th scope=col>Time</th><th scope=col>Crime</th></tr></thead>\n",
       "<tbody>\n",
       "\t<tr><td>15.1  </td><td>1     </td><td> 9.1  </td><td> 5.8  </td><td> 5.6  </td><td>0.510 </td><td> 95.0 </td><td> 33   </td><td>30.1  </td><td>0.108 </td><td>4.1   </td><td>3940  </td><td>26.1  </td><td>0.0846</td><td>26.2  </td><td> 791  </td></tr>\n",
       "\t<tr><td>14.3  </td><td>0     </td><td>11.3  </td><td>10.3  </td><td> 9.5  </td><td>0.583 </td><td>101.2 </td><td> 13   </td><td>10.2  </td><td>0.096 </td><td>3.6   </td><td>5570  </td><td>19.4  </td><td>0.0296</td><td>25.3  </td><td>1635  </td></tr>\n",
       "\t<tr><td>14.2  </td><td>1     </td><td> 8.9  </td><td> 4.5  </td><td> 4.4  </td><td>0.533 </td><td> 96.9 </td><td> 18   </td><td>21.9  </td><td>0.094 </td><td>3.3   </td><td>3180  </td><td>25.0  </td><td>0.0834</td><td>24.3  </td><td> 578  </td></tr>\n",
       "\t<tr><td>13.6  </td><td>0     </td><td>12.1  </td><td>14.9  </td><td>14.1  </td><td>0.577 </td><td> 99.4 </td><td>157   </td><td> 8.0  </td><td>0.102 </td><td>3.9   </td><td>6730  </td><td>16.7  </td><td>0.0158</td><td>29.9  </td><td>1969  </td></tr>\n",
       "\t<tr><td>14.1  </td><td>0     </td><td>12.1  </td><td>10.9  </td><td>10.1  </td><td>0.591 </td><td> 98.5 </td><td> 18   </td><td> 3.0  </td><td>0.091 </td><td>2.0   </td><td>5780  </td><td>17.4  </td><td>0.0414</td><td>21.3  </td><td>1234  </td></tr>\n",
       "\t<tr><td>12.1  </td><td>0     </td><td>11.0  </td><td>11.8  </td><td>11.5  </td><td>0.547 </td><td> 96.4 </td><td> 25   </td><td> 4.4  </td><td>0.084 </td><td>2.9   </td><td>6890  </td><td>12.6  </td><td>0.0342</td><td>21.0  </td><td> 682  </td></tr>\n",
       "</tbody>\n",
       "</table>\n"
      ],
      "text/latex": [
       "\\begin{tabular}{r|llllllllllllllll}\n",
       " M & So & Ed & Po1 & Po2 & LF & M.F & Pop & NW & U1 & U2 & Wealth & Ineq & Prob & Time & Crime\\\\\n",
       "\\hline\n",
       "\t 15.1   & 1      &  9.1   &  5.8   &  5.6   & 0.510  &  95.0  &  33    & 30.1   & 0.108  & 4.1    & 3940   & 26.1   & 0.0846 & 26.2   &  791  \\\\\n",
       "\t 14.3   & 0      & 11.3   & 10.3   &  9.5   & 0.583  & 101.2  &  13    & 10.2   & 0.096  & 3.6    & 5570   & 19.4   & 0.0296 & 25.3   & 1635  \\\\\n",
       "\t 14.2   & 1      &  8.9   &  4.5   &  4.4   & 0.533  &  96.9  &  18    & 21.9   & 0.094  & 3.3    & 3180   & 25.0   & 0.0834 & 24.3   &  578  \\\\\n",
       "\t 13.6   & 0      & 12.1   & 14.9   & 14.1   & 0.577  &  99.4  & 157    &  8.0   & 0.102  & 3.9    & 6730   & 16.7   & 0.0158 & 29.9   & 1969  \\\\\n",
       "\t 14.1   & 0      & 12.1   & 10.9   & 10.1   & 0.591  &  98.5  &  18    &  3.0   & 0.091  & 2.0    & 5780   & 17.4   & 0.0414 & 21.3   & 1234  \\\\\n",
       "\t 12.1   & 0      & 11.0   & 11.8   & 11.5   & 0.547  &  96.4  &  25    &  4.4   & 0.084  & 2.9    & 6890   & 12.6   & 0.0342 & 21.0   &  682  \\\\\n",
       "\\end{tabular}\n"
      ],
      "text/markdown": [
       "\n",
       "M | So | Ed | Po1 | Po2 | LF | M.F | Pop | NW | U1 | U2 | Wealth | Ineq | Prob | Time | Crime | \n",
       "|---|---|---|---|---|---|\n",
       "| 15.1   | 1      |  9.1   |  5.8   |  5.6   | 0.510  |  95.0  |  33    | 30.1   | 0.108  | 4.1    | 3940   | 26.1   | 0.0846 | 26.2   |  791   | \n",
       "| 14.3   | 0      | 11.3   | 10.3   |  9.5   | 0.583  | 101.2  |  13    | 10.2   | 0.096  | 3.6    | 5570   | 19.4   | 0.0296 | 25.3   | 1635   | \n",
       "| 14.2   | 1      |  8.9   |  4.5   |  4.4   | 0.533  |  96.9  |  18    | 21.9   | 0.094  | 3.3    | 3180   | 25.0   | 0.0834 | 24.3   |  578   | \n",
       "| 13.6   | 0      | 12.1   | 14.9   | 14.1   | 0.577  |  99.4  | 157    |  8.0   | 0.102  | 3.9    | 6730   | 16.7   | 0.0158 | 29.9   | 1969   | \n",
       "| 14.1   | 0      | 12.1   | 10.9   | 10.1   | 0.591  |  98.5  |  18    |  3.0   | 0.091  | 2.0    | 5780   | 17.4   | 0.0414 | 21.3   | 1234   | \n",
       "| 12.1   | 0      | 11.0   | 11.8   | 11.5   | 0.547  |  96.4  |  25    |  4.4   | 0.084  | 2.9    | 6890   | 12.6   | 0.0342 | 21.0   |  682   | \n",
       "\n",
       "\n"
      ],
      "text/plain": [
       "  M    So Ed   Po1  Po2  LF    M.F   Pop NW   U1    U2  Wealth Ineq Prob   Time\n",
       "1 15.1 1   9.1  5.8  5.6 0.510  95.0  33 30.1 0.108 4.1 3940   26.1 0.0846 26.2\n",
       "2 14.3 0  11.3 10.3  9.5 0.583 101.2  13 10.2 0.096 3.6 5570   19.4 0.0296 25.3\n",
       "3 14.2 1   8.9  4.5  4.4 0.533  96.9  18 21.9 0.094 3.3 3180   25.0 0.0834 24.3\n",
       "4 13.6 0  12.1 14.9 14.1 0.577  99.4 157  8.0 0.102 3.9 6730   16.7 0.0158 29.9\n",
       "5 14.1 0  12.1 10.9 10.1 0.591  98.5  18  3.0 0.091 2.0 5780   17.4 0.0414 21.3\n",
       "6 12.1 0  11.0 11.8 11.5 0.547  96.4  25  4.4 0.084 2.9 6890   12.6 0.0342 21.0\n",
       "  Crime\n",
       "1  791 \n",
       "2 1635 \n",
       "3  578 \n",
       "4 1969 \n",
       "5 1234 \n",
       "6  682 "
      ]
     },
     "metadata": {},
     "output_type": "display_data"
    }
   ],
   "source": [
    "head(data)"
   ]
  },
  {
   "cell_type": "code",
   "execution_count": 118,
   "metadata": {},
   "outputs": [],
   "source": [
    "#Scale the data for the process of determining factors to use. (Run again without scale before predicting datapoint)"
   ]
  },
  {
   "cell_type": "code",
   "execution_count": 192,
   "metadata": {},
   "outputs": [],
   "source": [
    "#Scale the data except for categorical column\n"
   ]
  },
  {
   "cell_type": "code",
   "execution_count": 120,
   "metadata": {},
   "outputs": [],
   "source": [
    "crime_df_scaled <- as.data.frame(scale(data[,-2]))"
   ]
  },
  {
   "cell_type": "code",
   "execution_count": null,
   "metadata": {},
   "outputs": [],
   "source": [
    "#Add categorical column as factor"
   ]
  },
  {
   "cell_type": "code",
   "execution_count": 121,
   "metadata": {},
   "outputs": [],
   "source": [
    "crime_df_scaled$So <- factor(data$So)"
   ]
  },
  {
   "cell_type": "code",
   "execution_count": null,
   "metadata": {},
   "outputs": [],
   "source": [
    "#Establish naming convention to ease readability"
   ]
  },
  {
   "cell_type": "code",
   "execution_count": 123,
   "metadata": {},
   "outputs": [],
   "source": [
    "crime_df_raw <- data"
   ]
  },
  {
   "cell_type": "code",
   "execution_count": null,
   "metadata": {},
   "outputs": [],
   "source": [
    "#Convert categorical in raw data"
   ]
  },
  {
   "cell_type": "code",
   "execution_count": 124,
   "metadata": {},
   "outputs": [],
   "source": [
    "crime_df_raw$So <- factor(crime_df_raw$So)"
   ]
  },
  {
   "cell_type": "code",
   "execution_count": null,
   "metadata": {},
   "outputs": [],
   "source": [
    "#Do linear regression with all variables"
   ]
  },
  {
   "cell_type": "code",
   "execution_count": 126,
   "metadata": {},
   "outputs": [],
   "source": [
    "rawModel <- lm(Crime~., data = crime_df_raw)"
   ]
  },
  {
   "cell_type": "code",
   "execution_count": null,
   "metadata": {},
   "outputs": [],
   "source": [
    "#Print summary"
   ]
  },
  {
   "cell_type": "code",
   "execution_count": 127,
   "metadata": {},
   "outputs": [
    {
     "data": {
      "text/plain": [
       "\n",
       "Call:\n",
       "lm(formula = Crime ~ ., data = crime_df_raw)\n",
       "\n",
       "Residuals:\n",
       "   Min     1Q Median     3Q    Max \n",
       "-395.7  -98.1   -6.7  113.0  512.7 \n",
       "\n",
       "Coefficients:\n",
       "             Estimate Std. Error t value Pr(>|t|)    \n",
       "(Intercept) -5.98e+03   1.63e+03   -3.68  0.00089 ***\n",
       "M            8.78e+01   4.17e+01    2.11  0.04344 *  \n",
       "So1         -3.80e+00   1.49e+02   -0.03  0.97977    \n",
       "Ed           1.88e+02   6.21e+01    3.03  0.00486 ** \n",
       "Po1          1.93e+02   1.06e+02    1.82  0.07889 .  \n",
       "Po2         -1.09e+02   1.17e+02   -0.93  0.35883    \n",
       "LF          -6.64e+02   1.47e+03   -0.45  0.65465    \n",
       "M.F          1.74e+01   2.04e+01    0.86  0.39900    \n",
       "Pop         -7.33e-01   1.29e+00   -0.57  0.57385    \n",
       "NW           4.20e+00   6.48e+00    0.65  0.52128    \n",
       "U1          -5.83e+03   4.21e+03   -1.38  0.17624    \n",
       "U2           1.68e+02   8.23e+01    2.04  0.05016 .  \n",
       "Wealth       9.62e-02   1.04e-01    0.93  0.36075    \n",
       "Ineq         7.07e+01   2.27e+01    3.11  0.00398 ** \n",
       "Prob        -4.86e+03   2.27e+03   -2.14  0.04063 *  \n",
       "Time        -3.48e+00   7.17e+00   -0.49  0.63071    \n",
       "---\n",
       "Signif. codes:  0 ‘***’ 0.001 ‘**’ 0.01 ‘*’ 0.05 ‘.’ 0.1 ‘ ’ 1\n",
       "\n",
       "Residual standard error: 209 on 31 degrees of freedom\n",
       "Multiple R-squared:  0.803,\tAdjusted R-squared:  0.708 \n",
       "F-statistic: 8.43 on 15 and 31 DF,  p-value: 3.54e-07\n"
      ]
     },
     "metadata": {},
     "output_type": "display_data"
    }
   ],
   "source": [
    "summary(rawModel)"
   ]
  },
  {
   "cell_type": "code",
   "execution_count": null,
   "metadata": {},
   "outputs": [],
   "source": [
    "#We achived an r squared of 70.8 percent with this method"
   ]
  },
  {
   "cell_type": "code",
   "execution_count": null,
   "metadata": {},
   "outputs": [],
   "source": [
    "#Perform regression with significant predictors"
   ]
  },
  {
   "cell_type": "code",
   "execution_count": 128,
   "metadata": {},
   "outputs": [],
   "source": [
    "rawModel_signif <- lm(Crime~M+Ed+Ineq+Prob, data = crime_df_raw)"
   ]
  },
  {
   "cell_type": "code",
   "execution_count": null,
   "metadata": {},
   "outputs": [],
   "source": [
    "#Print summary for new regression with only significant predictors"
   ]
  },
  {
   "cell_type": "code",
   "execution_count": 129,
   "metadata": {},
   "outputs": [
    {
     "data": {
      "text/plain": [
       "\n",
       "Call:\n",
       "lm(formula = Crime ~ M + Ed + Ineq + Prob, data = crime_df_raw)\n",
       "\n",
       "Residuals:\n",
       "   Min     1Q Median     3Q    Max \n",
       "-533.0 -254.0  -55.7  137.8  960.2 \n",
       "\n",
       "Coefficients:\n",
       "            Estimate Std. Error t value Pr(>|t|)   \n",
       "(Intercept)  -1339.3     1247.0   -1.07   0.2889   \n",
       "M               36.0       53.4    0.67   0.5042   \n",
       "Ed             148.6       71.9    2.07   0.0450 * \n",
       "Ineq            26.9       22.8    1.18   0.2446   \n",
       "Prob         -7331.9     2560.3   -2.86   0.0065 **\n",
       "---\n",
       "Signif. codes:  0 ‘***’ 0.001 ‘**’ 0.01 ‘*’ 0.05 ‘.’ 0.1 ‘ ’ 1\n",
       "\n",
       "Residual standard error: 348 on 42 degrees of freedom\n",
       "Multiple R-squared:  0.263,\tAdjusted R-squared:  0.193 \n",
       "F-statistic: 3.75 on 4 and 42 DF,  p-value: 0.0108\n"
      ]
     },
     "metadata": {},
     "output_type": "display_data"
    }
   ],
   "source": [
    "summary(rawModel_signif)"
   ]
  },
  {
   "cell_type": "code",
   "execution_count": null,
   "metadata": {},
   "outputs": [],
   "source": [
    "#Prediction went significantly down. Obviously, some borderline predictors were important"
   ]
  },
  {
   "cell_type": "code",
   "execution_count": null,
   "metadata": {},
   "outputs": [],
   "source": [
    "#Run regression with scaled data"
   ]
  },
  {
   "cell_type": "code",
   "execution_count": 130,
   "metadata": {},
   "outputs": [],
   "source": [
    "scaledModel <- (lm(Crime~., data = crime_df_scaled))"
   ]
  },
  {
   "cell_type": "code",
   "execution_count": null,
   "metadata": {},
   "outputs": [],
   "source": [
    "#Print summary of regression with scaled data"
   ]
  },
  {
   "cell_type": "code",
   "execution_count": 131,
   "metadata": {},
   "outputs": [
    {
     "data": {
      "text/plain": [
       "\n",
       "Call:\n",
       "lm(formula = Crime ~ ., data = crime_df_scaled)\n",
       "\n",
       "Residuals:\n",
       "    Min      1Q  Median      3Q     Max \n",
       "-1.0232 -0.2536 -0.0173  0.2921  1.3255 \n",
       "\n",
       "Coefficients:\n",
       "            Estimate Std. Error t value Pr(>|t|)   \n",
       "(Intercept)  0.00335    0.15284    0.02   0.9827   \n",
       "M            0.28540    0.13555    2.11   0.0434 * \n",
       "Ed           0.54472    0.17959    3.03   0.0049 **\n",
       "Po1          1.48151    0.81535    1.82   0.0789 . \n",
       "Po2         -0.79107    0.84931   -0.93   0.3588   \n",
       "LF          -0.06936    0.15357   -0.45   0.6547   \n",
       "M.F          0.13262    0.15508    0.86   0.3990   \n",
       "Pop         -0.07215    0.12694   -0.57   0.5738   \n",
       "NW           0.11178    0.17231    0.65   0.5213   \n",
       "U1          -0.27163    0.19626   -1.38   0.1762   \n",
       "U2           0.36641    0.17979    2.04   0.0502 . \n",
       "Wealth       0.23992    0.25863    0.93   0.3608   \n",
       "Ineq         0.72901    0.23433    3.11   0.0040 **\n",
       "Prob        -0.28543    0.13359   -2.14   0.0406 * \n",
       "Time        -0.06375    0.13129   -0.49   0.6307   \n",
       "So1         -0.00983    0.38462   -0.03   0.9798   \n",
       "---\n",
       "Signif. codes:  0 ‘***’ 0.001 ‘**’ 0.01 ‘*’ 0.05 ‘.’ 0.1 ‘ ’ 1\n",
       "\n",
       "Residual standard error: 0.541 on 31 degrees of freedom\n",
       "Multiple R-squared:  0.803,\tAdjusted R-squared:  0.708 \n",
       "F-statistic: 8.43 on 15 and 31 DF,  p-value: 3.54e-07\n"
      ]
     },
     "metadata": {},
     "output_type": "display_data"
    }
   ],
   "source": [
    "summary(scaledModel)"
   ]
  },
  {
   "cell_type": "code",
   "execution_count": null,
   "metadata": {},
   "outputs": [],
   "source": [
    "#Regression results were same for scaled and unscaled data"
   ]
  },
  {
   "cell_type": "code",
   "execution_count": null,
   "metadata": {},
   "outputs": [],
   "source": [
    "#Set variables to use forward step function to determine predictors"
   ]
  },
  {
   "cell_type": "code",
   "execution_count": 132,
   "metadata": {},
   "outputs": [],
   "source": [
    "min.model = lm(Crime ~ 1, data= crime_df_scaled)\n",
    "biggest <- formula(lm(Crime~., crime_df_scaled))"
   ]
  },
  {
   "cell_type": "code",
   "execution_count": null,
   "metadata": {},
   "outputs": [],
   "source": [
    "#Run step function on scaled data"
   ]
  },
  {
   "cell_type": "code",
   "execution_count": 133,
   "metadata": {},
   "outputs": [
    {
     "name": "stdout",
     "output_type": "stream",
     "text": [
      "Start:  AIC=0.99\n",
      "Crime ~ 1\n",
      "\n",
      "         Df Sum of Sq  RSS    AIC\n",
      "+ Po1     1     21.75 24.3 -27.10\n",
      "+ Po2     1     20.45 25.6 -24.64\n",
      "+ Wealth  1      8.96 37.0  -7.19\n",
      "+ Prob    1      8.40 37.6  -6.49\n",
      "+ Pop     1      5.24 40.8  -2.69\n",
      "+ Ed      1      4.79 41.2  -2.18\n",
      "+ M.F     1      2.10 43.9   0.79\n",
      "<none>                46.0   0.99\n",
      "+ LF      1      1.64 44.4   1.28\n",
      "+ Ineq    1      1.47 44.5   1.46\n",
      "+ U2      1      1.45 44.6   1.49\n",
      "+ Time    1      1.03 45.0   1.92\n",
      "+ So      1      0.38 45.6   2.60\n",
      "+ M       1      0.37 45.6   2.61\n",
      "+ U1      1      0.12 45.9   2.87\n",
      "+ NW      1      0.05 46.0   2.94\n",
      "\n",
      "Step:  AIC=-27.1\n",
      "Crime ~ Po1\n",
      "\n",
      "         Df Sum of Sq  RSS   AIC\n",
      "+ Ineq    1      4.95 19.3 -35.8\n",
      "+ M       1      4.12 20.1 -33.9\n",
      "+ M.F     1      1.67 22.6 -28.5\n",
      "+ NW      1      1.55 22.7 -28.2\n",
      "+ So      1      1.46 22.8 -28.0\n",
      "+ Wealth  1      1.21 23.0 -27.5\n",
      "<none>                24.2 -27.1\n",
      "+ Po2     1      0.98 23.3 -27.0\n",
      "+ Prob    1      0.62 23.6 -26.3\n",
      "+ LF      1      0.52 23.7 -26.1\n",
      "+ Time    1      0.29 24.0 -25.7\n",
      "+ U2      1      0.12 24.1 -25.3\n",
      "+ Pop     1      0.04 24.2 -25.2\n",
      "+ U1      1      0.02 24.2 -25.1\n",
      "+ Ed      1      0.01 24.2 -25.1\n",
      "\n",
      "Step:  AIC=-35.8\n",
      "Crime ~ Po1 + Ineq\n",
      "\n",
      "         Df Sum of Sq  RSS   AIC\n",
      "+ Ed      1      3.92 15.4 -44.5\n",
      "+ M.F     1      3.04 16.3 -41.9\n",
      "+ Prob    1      1.88 17.4 -38.6\n",
      "+ LF      1      1.74 17.6 -38.3\n",
      "+ Wealth  1      1.43 17.9 -37.4\n",
      "+ M       1      1.21 18.1 -36.9\n",
      "+ Pop     1      0.87 18.4 -36.0\n",
      "<none>                19.3 -35.8\n",
      "+ NW      1      0.24 19.1 -34.4\n",
      "+ So      1      0.23 19.1 -34.4\n",
      "+ Po2     1      0.21 19.1 -34.3\n",
      "+ U1      1      0.02 19.3 -33.9\n",
      "+ Time    1      0.00 19.3 -33.8\n",
      "+ U2      1      0.00 19.3 -33.8\n",
      "\n",
      "Step:  AIC=-44.5\n",
      "Crime ~ Po1 + Ineq + Ed\n",
      "\n",
      "         Df Sum of Sq  RSS   AIC\n",
      "+ M       1     1.600 13.8 -47.7\n",
      "+ Prob    1     1.571 13.8 -47.6\n",
      "+ M.F     1     0.782 14.6 -45.0\n",
      "<none>                15.4 -44.5\n",
      "+ Wealth  1     0.532 14.8 -44.2\n",
      "+ U2      1     0.415 15.0 -43.8\n",
      "+ Time    1     0.413 15.0 -43.8\n",
      "+ Po2     1     0.285 15.1 -43.4\n",
      "+ Pop     1     0.263 15.1 -43.3\n",
      "+ U1      1     0.049 15.3 -42.7\n",
      "+ LF      1     0.048 15.3 -42.6\n",
      "+ NW      1     0.028 15.3 -42.6\n",
      "+ So      1     0.028 15.3 -42.6\n",
      "\n",
      "Step:  AIC=-47.7\n",
      "Crime ~ Po1 + Ineq + Ed + M\n",
      "\n",
      "         Df Sum of Sq  RSS   AIC\n",
      "+ Prob    1     1.725 12.1 -52.0\n",
      "+ U2      1     1.344 12.4 -50.5\n",
      "+ Wealth  1     1.092 12.7 -49.5\n",
      "<none>                13.8 -47.7\n",
      "+ M.F     1     0.497 13.3 -47.4\n",
      "+ U1      1     0.340 13.4 -46.8\n",
      "+ Po2     1     0.303 13.5 -46.7\n",
      "+ Time    1     0.286 13.5 -46.6\n",
      "+ NW      1     0.110 13.7 -46.0\n",
      "+ Pop     1     0.054 13.7 -45.8\n",
      "+ So      1     0.021 13.8 -45.7\n",
      "+ LF      1     0.020 13.8 -45.7\n",
      "\n",
      "Step:  AIC=-52\n",
      "Crime ~ Po1 + Ineq + Ed + M + Prob\n",
      "\n",
      "         Df Sum of Sq  RSS   AIC\n",
      "+ U2      1     1.285 10.8 -55.2\n",
      "+ Wealth  1     0.578 11.5 -52.3\n",
      "+ M.F     1     0.565 11.5 -52.2\n",
      "<none>                12.1 -52.0\n",
      "+ U1      1     0.350 11.7 -51.3\n",
      "+ Pop     1     0.319 11.7 -51.2\n",
      "+ Po2     1     0.254 11.8 -51.0\n",
      "+ So      1     0.147 11.9 -50.5\n",
      "+ Time    1     0.068 12.0 -50.2\n",
      "+ LF      1     0.007 12.1 -50.0\n",
      "+ NW      1     0.005 12.1 -50.0\n",
      "\n",
      "Step:  AIC=-55.2\n",
      "Crime ~ Po1 + Ineq + Ed + M + Prob + U2\n",
      "\n",
      "         Df Sum of Sq  RSS   AIC\n",
      "<none>                10.8 -55.2\n",
      "+ Wealth  1     0.401 10.4 -55.0\n",
      "+ U1      1     0.367 10.4 -54.9\n",
      "+ Pop     1     0.343 10.4 -54.8\n",
      "+ M.F     1     0.207 10.6 -54.2\n",
      "+ Po2     1     0.167 10.6 -54.0\n",
      "+ So      1     0.120 10.7 -53.8\n",
      "+ LF      1     0.088 10.7 -53.6\n",
      "+ Time    1     0.048 10.7 -53.5\n",
      "+ NW      1     0.002 10.8 -53.3\n"
     ]
    },
    {
     "data": {
      "text/plain": [
       "\n",
       "Call:\n",
       "lm(formula = Crime ~ Po1 + Ineq + Ed + M + Prob + U2, data = crime_df_scaled)\n",
       "\n",
       "Coefficients:\n",
       "(Intercept)          Po1         Ineq           Ed            M         Prob  \n",
       "  -1.62e-16     8.84e-01     6.98e-01     5.68e-01     3.41e-01    -2.24e-01  \n",
       "         U2  \n",
       "   1.95e-01  \n"
      ]
     },
     "metadata": {},
     "output_type": "display_data"
    }
   ],
   "source": [
    "step(min.model , scope = biggest, scale = 0,\n",
    "     direction = \"forward\",\n",
    "     trace = 1, keep = NULL, steps = 1000, k = 2)"
   ]
  },
  {
   "cell_type": "code",
   "execution_count": null,
   "metadata": {},
   "outputs": [],
   "source": [
    "#Run regression using predictors determined by forward step"
   ]
  },
  {
   "cell_type": "code",
   "execution_count": 134,
   "metadata": {},
   "outputs": [],
   "source": [
    "scaledModel_resultsOfStep <- (lm(Crime~Po1+Ineq+Ed+M+Prob+U2, data = crime_df_scaled))"
   ]
  },
  {
   "cell_type": "code",
   "execution_count": null,
   "metadata": {},
   "outputs": [],
   "source": [
    "#Print results of this regression"
   ]
  },
  {
   "cell_type": "code",
   "execution_count": 135,
   "metadata": {},
   "outputs": [
    {
     "data": {
      "text/plain": [
       "\n",
       "Call:\n",
       "lm(formula = Crime ~ Po1 + Ineq + Ed + M + Prob + U2, data = crime_df_scaled)\n",
       "\n",
       "Residuals:\n",
       "    Min      1Q  Median      3Q     Max \n",
       "-1.2170 -0.2027 -0.0509  0.3442  1.4382 \n",
       "\n",
       "Coefficients:\n",
       "             Estimate Std. Error t value Pr(>|t|)    \n",
       "(Intercept) -1.62e-16   7.57e-02    0.00   1.0000    \n",
       "Po1          8.84e-01   1.06e-01    8.36  2.6e-10 ***\n",
       "Ineq         6.98e-01   1.44e-01    4.85  1.9e-05 ***\n",
       "Ed           5.68e-01   1.29e-01    4.39  8.1e-05 ***\n",
       "M            3.41e-01   1.08e-01    3.15   0.0031 ** \n",
       "Prob        -2.24e-01   8.98e-02   -2.49   0.0171 *  \n",
       "U2           1.95e-01   8.93e-02    2.18   0.0348 *  \n",
       "---\n",
       "Signif. codes:  0 ‘***’ 0.001 ‘**’ 0.01 ‘*’ 0.05 ‘.’ 0.1 ‘ ’ 1\n",
       "\n",
       "Residual standard error: 0.519 on 40 degrees of freedom\n",
       "Multiple R-squared:  0.766,\tAdjusted R-squared:  0.731 \n",
       "F-statistic: 21.8 on 6 and 40 DF,  p-value: 3.42e-11\n"
      ]
     },
     "metadata": {},
     "output_type": "display_data"
    }
   ],
   "source": [
    "summary(scaledModel_resultsOfStep)"
   ]
  },
  {
   "cell_type": "code",
   "execution_count": null,
   "metadata": {},
   "outputs": [],
   "source": [
    "#Regression explained 73.1 percent of variance, an improvement, but with possible overfitting"
   ]
  },
  {
   "cell_type": "code",
   "execution_count": null,
   "metadata": {},
   "outputs": [],
   "source": [
    "#Set up variables to do backward step function"
   ]
  },
  {
   "cell_type": "code",
   "execution_count": 136,
   "metadata": {},
   "outputs": [],
   "source": [
    "min.model = formula(lm(Crime ~ 1, data= crime_df_scaled))\n",
    "biggest <- (lm(Crime~., crime_df_scaled))"
   ]
  },
  {
   "cell_type": "code",
   "execution_count": null,
   "metadata": {},
   "outputs": [],
   "source": [
    "#Run regression with backward step function"
   ]
  },
  {
   "cell_type": "code",
   "execution_count": 137,
   "metadata": {},
   "outputs": [
    {
     "name": "stdout",
     "output_type": "stream",
     "text": [
      "Start:  AIC=-45.4\n",
      "Crime ~ M + Ed + Po1 + Po2 + LF + M.F + Pop + NW + U1 + U2 + \n",
      "    Wealth + Ineq + Prob + Time + So\n",
      "\n",
      "         Df Sum of Sq   RSS   AIC\n",
      "- So      1     0.000  9.06 -47.4\n",
      "- LF      1     0.060  9.12 -47.1\n",
      "- Time    1     0.069  9.13 -47.0\n",
      "- Pop     1     0.094  9.15 -46.9\n",
      "- NW      1     0.123  9.18 -46.8\n",
      "- M.F     1     0.214  9.27 -46.3\n",
      "- Wealth  1     0.251  9.31 -46.1\n",
      "- Po2     1     0.253  9.31 -46.1\n",
      "<none>                 9.06 -45.4\n",
      "- U1      1     0.560  9.62 -44.6\n",
      "- Po1     1     0.965 10.02 -42.6\n",
      "- U2      1     1.214 10.27 -41.5\n",
      "- M       1     1.295 10.35 -41.1\n",
      "- Prob    1     1.334 10.39 -40.9\n",
      "- Ed      1     2.688 11.75 -35.2\n",
      "- Ineq    1     2.828 11.89 -34.6\n",
      "\n",
      "Step:  AIC=-47.4\n",
      "Crime ~ M + Ed + Po1 + Po2 + LF + M.F + Pop + NW + U1 + U2 + \n",
      "    Wealth + Ineq + Prob + Time\n",
      "\n",
      "         Df Sum of Sq   RSS   AIC\n",
      "- Time    1      0.07  9.13 -49.0\n",
      "- LF      1      0.07  9.13 -49.0\n",
      "- Pop     1      0.09  9.15 -48.9\n",
      "- NW      1      0.14  9.20 -48.6\n",
      "- M.F     1      0.22  9.28 -48.3\n",
      "- Po2     1      0.25  9.31 -48.1\n",
      "- Wealth  1      0.26  9.32 -48.0\n",
      "<none>                 9.06 -47.4\n",
      "- U1      1      0.64  9.70 -46.2\n",
      "- Po1     1      0.96 10.02 -44.6\n",
      "- U2      1      1.27 10.33 -43.2\n",
      "- M       1      1.30 10.36 -43.1\n",
      "- Prob    1      1.37 10.43 -42.8\n",
      "- Ed      1      2.70 11.75 -37.1\n",
      "- Ineq    1      3.27 12.33 -34.9\n",
      "\n",
      "Step:  AIC=-49\n",
      "Crime ~ M + Ed + Po1 + Po2 + LF + M.F + Pop + NW + U1 + U2 + \n",
      "    Wealth + Ineq + Prob\n",
      "\n",
      "         Df Sum of Sq   RSS   AIC\n",
      "- LF      1      0.07  9.20 -50.7\n",
      "- NW      1      0.10  9.23 -50.5\n",
      "- Pop     1      0.15  9.27 -50.3\n",
      "- Po2     1      0.19  9.32 -50.0\n",
      "- Wealth  1      0.24  9.37 -49.8\n",
      "- M.F     1      0.28  9.41 -49.6\n",
      "<none>                 9.13 -49.0\n",
      "- U1      1      0.61  9.74 -48.0\n",
      "- Po1     1      0.90 10.02 -46.6\n",
      "- U2      1      1.23 10.36 -45.1\n",
      "- M       1      1.24 10.37 -45.0\n",
      "- Prob    1      1.59 10.72 -43.5\n",
      "- Ed      1      2.74 11.86 -38.7\n",
      "- Ineq    1      3.36 12.49 -36.3\n",
      "\n",
      "Step:  AIC=-50.7\n",
      "Crime ~ M + Ed + Po1 + Po2 + M.F + Pop + NW + U1 + U2 + Wealth + \n",
      "    Ineq + Prob\n",
      "\n",
      "         Df Sum of Sq   RSS   AIC\n",
      "- NW      1      0.08  9.28 -52.3\n",
      "- Po2     1      0.14  9.34 -51.9\n",
      "- Pop     1      0.19  9.38 -51.7\n",
      "- M.F     1      0.21  9.41 -51.6\n",
      "- Wealth  1      0.23  9.43 -51.5\n",
      "<none>                 9.20 -50.7\n",
      "- U1      1      0.54  9.74 -50.0\n",
      "- Po1     1      0.83 10.03 -48.6\n",
      "- U2      1      1.28 10.47 -46.6\n",
      "- M       1      1.46 10.65 -45.8\n",
      "- Prob    1      1.52 10.72 -45.5\n",
      "- Ed      1      2.76 11.96 -40.3\n",
      "- Ineq    1      3.35 12.55 -38.1\n",
      "\n",
      "Step:  AIC=-52.3\n",
      "Crime ~ M + Ed + Po1 + Po2 + M.F + Pop + U1 + U2 + Wealth + Ineq + \n",
      "    Prob\n",
      "\n",
      "         Df Sum of Sq   RSS   AIC\n",
      "- Po2     1      0.11  9.39 -53.7\n",
      "- Pop     1      0.17  9.45 -53.4\n",
      "- M.F     1      0.18  9.45 -53.4\n",
      "- Wealth  1      0.21  9.49 -53.2\n",
      "<none>                 9.28 -52.3\n",
      "- U1      1      0.56  9.84 -51.5\n",
      "- Po1     1      0.79 10.07 -50.4\n",
      "- U2      1      1.35 10.62 -47.9\n",
      "- Prob    1      1.45 10.72 -47.4\n",
      "- M       1      2.07 11.34 -44.8\n",
      "- Ed      1      2.69 11.97 -42.3\n",
      "- Ineq    1      3.94 13.22 -37.6\n",
      "\n",
      "Step:  AIC=-53.7\n",
      "Crime ~ M + Ed + Po1 + M.F + Pop + U1 + U2 + Wealth + Ineq + \n",
      "    Prob\n",
      "\n",
      "         Df Sum of Sq   RSS   AIC\n",
      "- Pop     1      0.15  9.54 -55.0\n",
      "- Wealth  1      0.21  9.60 -54.6\n",
      "- M.F     1      0.25  9.63 -54.5\n",
      "<none>                 9.39 -53.7\n",
      "- U1      1      0.58  9.96 -52.9\n",
      "- U2      1      1.38 10.76 -49.3\n",
      "- Prob    1      1.46 10.85 -48.9\n",
      "- M       1      2.05 11.44 -46.4\n",
      "- Ed      1      2.60 11.99 -44.2\n",
      "- Ineq    1      4.07 13.46 -38.8\n",
      "- Po1     1      7.02 16.41 -29.5\n",
      "\n",
      "Step:  AIC=-55\n",
      "Crime ~ M + Ed + Po1 + M.F + U1 + U2 + Wealth + Ineq + Prob\n",
      "\n",
      "         Df Sum of Sq   RSS   AIC\n",
      "- Wealth  1      0.18  9.71 -56.1\n",
      "<none>                 9.54 -55.0\n",
      "- M.F     1      0.56 10.10 -54.3\n",
      "- U1      1      0.66 10.20 -53.8\n",
      "- Prob    1      1.33 10.86 -50.8\n",
      "- U2      1      1.40 10.93 -50.5\n",
      "- M       1      2.15 11.68 -47.4\n",
      "- Ed      1      2.59 12.12 -45.7\n",
      "- Ineq    1      3.98 13.51 -40.6\n",
      "- Po1     1      7.54 17.07 -29.6\n",
      "\n",
      "Step:  AIC=-56.1\n",
      "Crime ~ M + Ed + Po1 + M.F + U1 + U2 + Ineq + Prob\n",
      "\n",
      "       Df Sum of Sq   RSS   AIC\n",
      "<none>               9.71 -56.1\n",
      "- M.F   1      0.69 10.40 -54.9\n",
      "- U1    1      0.85 10.56 -54.2\n",
      "- Prob  1      1.66 11.37 -50.7\n",
      "- U2    1      1.71 11.42 -50.5\n",
      "- M     1      1.98 11.70 -49.4\n",
      "- Ed    1      2.98 12.69 -45.5\n",
      "- Ineq  1      4.94 14.65 -38.8\n",
      "- Po1   1     11.18 20.89 -22.1\n"
     ]
    },
    {
     "data": {
      "text/plain": [
       "\n",
       "Call:\n",
       "lm(formula = Crime ~ M + Ed + Po1 + M.F + U1 + U2 + Ineq + Prob, \n",
       "    data = crime_df_scaled)\n",
       "\n",
       "Coefficients:\n",
       "(Intercept)            M           Ed          Po1          M.F           U1  \n",
       "  -3.59e-16     3.03e-01     5.21e-01     7.89e-01     1.70e-01    -2.84e-01  \n",
       "         U2         Ineq         Prob  \n",
       "   4.09e-01     6.33e-01    -2.23e-01  \n"
      ]
     },
     "metadata": {},
     "output_type": "display_data"
    }
   ],
   "source": [
    "step(biggest , scope = min.model, scale = 0,\n",
    "     direction = \"backward\",\n",
    "     trace = 1, keep = NULL, steps = 1000, k = 2)"
   ]
  },
  {
   "cell_type": "code",
   "execution_count": null,
   "metadata": {},
   "outputs": [],
   "source": [
    "#Run regression with predictors from backward step function"
   ]
  },
  {
   "cell_type": "code",
   "execution_count": 138,
   "metadata": {},
   "outputs": [],
   "source": [
    "scaledModel_resultsOfStep2 <- (lm(Crime~M + Ed + Po1 + M.F + U1 + U2 + Ineq + Prob, data = crime_df_scaled))"
   ]
  },
  {
   "cell_type": "code",
   "execution_count": null,
   "metadata": {},
   "outputs": [],
   "source": [
    "#Ensure So column is factor"
   ]
  },
  {
   "cell_type": "code",
   "execution_count": 139,
   "metadata": {},
   "outputs": [],
   "source": [
    "data$So <- factor(data$So)"
   ]
  },
  {
   "cell_type": "code",
   "execution_count": null,
   "metadata": {},
   "outputs": [],
   "source": [
    "#Run regression on unscaled data using predictors from backward step function"
   ]
  },
  {
   "cell_type": "code",
   "execution_count": 140,
   "metadata": {},
   "outputs": [],
   "source": [
    "unscaledModel_resultsOfStep2 <- (lm(Crime~M + Ed + Po1 + M.F + U1 + U2 + Ineq + Prob, data = data))"
   ]
  },
  {
   "cell_type": "code",
   "execution_count": null,
   "metadata": {},
   "outputs": [],
   "source": [
    "#Print summary of regression"
   ]
  },
  {
   "cell_type": "code",
   "execution_count": 141,
   "metadata": {},
   "outputs": [
    {
     "data": {
      "text/plain": [
       "\n",
       "Call:\n",
       "lm(formula = Crime ~ M + Ed + Po1 + M.F + U1 + U2 + Ineq + Prob, \n",
       "    data = crime_df_scaled)\n",
       "\n",
       "Residuals:\n",
       "    Min      1Q  Median      3Q     Max \n",
       "-1.1498 -0.2872  0.0078  0.3158  1.2496 \n",
       "\n",
       "Coefficients:\n",
       "             Estimate Std. Error t value Pr(>|t|)    \n",
       "(Intercept) -3.59e-16   7.37e-02    0.00   1.0000    \n",
       "M            3.03e-01   1.09e-01    2.79   0.0083 ** \n",
       "Ed           5.21e-01   1.53e-01    3.41   0.0015 ** \n",
       "Po1          7.89e-01   1.19e-01    6.61  8.3e-08 ***\n",
       "M.F          1.70e-01   1.04e-01    1.64   0.1087    \n",
       "U1          -2.84e-01   1.56e-01   -1.82   0.0762 .  \n",
       "U2           4.09e-01   1.58e-01    2.58   0.0137 *  \n",
       "Ineq         6.33e-01   1.44e-01    4.39  8.6e-05 ***\n",
       "Prob        -2.23e-01   8.76e-02   -2.55   0.0151 *  \n",
       "---\n",
       "Signif. codes:  0 ‘***’ 0.001 ‘**’ 0.01 ‘*’ 0.05 ‘.’ 0.1 ‘ ’ 1\n",
       "\n",
       "Residual standard error: 0.506 on 38 degrees of freedom\n",
       "Multiple R-squared:  0.789,\tAdjusted R-squared:  0.744 \n",
       "F-statistic: 17.7 on 8 and 38 DF,  p-value: 1.16e-10\n"
      ]
     },
     "metadata": {},
     "output_type": "display_data"
    }
   ],
   "source": [
    "summary(scaledModel_resultsOfStep2)"
   ]
  },
  {
   "cell_type": "code",
   "execution_count": null,
   "metadata": {},
   "outputs": [],
   "source": [
    "#Results improved to 74.4 percent, with possible overfitting"
   ]
  },
  {
   "cell_type": "code",
   "execution_count": null,
   "metadata": {},
   "outputs": [],
   "source": [
    "#Print results using predictors from backwards step on unscaled data"
   ]
  },
  {
   "cell_type": "code",
   "execution_count": 142,
   "metadata": {},
   "outputs": [
    {
     "data": {
      "text/plain": [
       "\n",
       "Call:\n",
       "lm(formula = Crime ~ M + Ed + Po1 + M.F + U1 + U2 + Ineq + Prob, \n",
       "    data = data)\n",
       "\n",
       "Residuals:\n",
       "   Min     1Q Median     3Q    Max \n",
       "  -445   -111      3    122    483 \n",
       "\n",
       "Coefficients:\n",
       "            Estimate Std. Error t value Pr(>|t|)    \n",
       "(Intercept)  -6426.1     1194.6   -5.38  4.0e-06 ***\n",
       "M               93.3       33.5    2.79   0.0083 ** \n",
       "Ed             180.1       52.8    3.41   0.0015 ** \n",
       "Po1            102.7       15.5    6.61  8.3e-08 ***\n",
       "M.F             22.3       13.6    1.64   0.1087    \n",
       "U1           -6086.6     3339.3   -1.82   0.0762 .  \n",
       "U2             187.3       72.5    2.58   0.0137 *  \n",
       "Ineq            61.3       14.0    4.39  8.6e-05 ***\n",
       "Prob         -3796.0     1490.6   -2.55   0.0151 *  \n",
       "---\n",
       "Signif. codes:  0 ‘***’ 0.001 ‘**’ 0.01 ‘*’ 0.05 ‘.’ 0.1 ‘ ’ 1\n",
       "\n",
       "Residual standard error: 196 on 38 degrees of freedom\n",
       "Multiple R-squared:  0.789,\tAdjusted R-squared:  0.744 \n",
       "F-statistic: 17.7 on 8 and 38 DF,  p-value: 1.16e-10\n"
      ]
     },
     "metadata": {},
     "output_type": "display_data"
    }
   ],
   "source": [
    "summary(unscaledModel_resultsOfStep2)"
   ]
  },
  {
   "cell_type": "code",
   "execution_count": null,
   "metadata": {},
   "outputs": [],
   "source": [
    "#Results were the same for scaled and unscaled"
   ]
  },
  {
   "cell_type": "code",
   "execution_count": null,
   "metadata": {},
   "outputs": [],
   "source": [
    "#Set up data point for prediction"
   ]
  },
  {
   "cell_type": "code",
   "execution_count": 143,
   "metadata": {},
   "outputs": [],
   "source": [
    "data_point <- data.frame(M=14,So=0,Ed=10.0,Po1=12.0,Po2=15.5,LF=.640,M.F=94.0,Pop=150,NW=1.1,U1=.12,U2=3.6,Wealth=3200,Ineq=20.1,Prob=.04,Time=39.0)"
   ]
  },
  {
   "cell_type": "code",
   "execution_count": null,
   "metadata": {},
   "outputs": [],
   "source": [
    "#Run prediction for test point"
   ]
  },
  {
   "cell_type": "code",
   "execution_count": 144,
   "metadata": {},
   "outputs": [],
   "source": [
    "predictionForTestpoint <- predict(unscaledModel_resultsOfStep2,data_point)"
   ]
  },
  {
   "cell_type": "code",
   "execution_count": null,
   "metadata": {},
   "outputs": [],
   "source": [
    "#Print prediction"
   ]
  },
  {
   "cell_type": "code",
   "execution_count": 145,
   "metadata": {},
   "outputs": [
    {
     "data": {
      "text/html": [
       "<strong>1:</strong> 1038.41335997717"
      ],
      "text/latex": [
       "\\textbf{1:} 1038.41335997717"
      ],
      "text/markdown": [
       "**1:** 1038.41335997717"
      ],
      "text/plain": [
       "   1 \n",
       "1038 "
      ]
     },
     "metadata": {},
     "output_type": "display_data"
    }
   ],
   "source": [
    "predictionForTestpoint"
   ]
  },
  {
   "cell_type": "code",
   "execution_count": null,
   "metadata": {},
   "outputs": [],
   "source": [
    "#See if this point makes sense looking at qqplot.  It does!"
   ]
  },
  {
   "cell_type": "code",
   "execution_count": 146,
   "metadata": {},
   "outputs": [
    {
     "data": {
      "image/png": "[encoded data removed]",
      "text/plain": [
       "Plot with title “Normal Q-Q Plot”"
      ]
     },
     "metadata": {},
     "output_type": "display_data"
    }
   ],
   "source": [
    "qqnorm(crime_df_raw$Crime)"
   ]
  },
  {
   "cell_type": "code",
   "execution_count": 147,
   "metadata": {},
   "outputs": [],
   "source": [
    "# So 1038 seems a very reasonable prediction"
   ]
  },
  {
   "cell_type": "code",
   "execution_count": null,
   "metadata": {},
   "outputs": [],
   "source": [
    "#Install packages and run first type of cross-validation"
   ]
  },
  {
   "cell_type": "code",
   "execution_count": 148,
   "metadata": {},
   "outputs": [],
   "source": [
    "#install.packages('DAAG')"
   ]
  },
  {
   "cell_type": "code",
   "execution_count": 149,
   "metadata": {},
   "outputs": [],
   "source": [
    "library(DAAG)"
   ]
  },
  {
   "cell_type": "code",
   "execution_count": 150,
   "metadata": {},
   "outputs": [
    {
     "name": "stdout",
     "output_type": "stream",
     "text": [
      "Analysis of Variance Table\n",
      "\n",
      "Response: Crime\n",
      "          Df  Sum Sq Mean Sq F value  Pr(>F)    \n",
      "M          1   55084   55084    1.44 0.23748    \n",
      "Ed         1  725967  725967   18.99 9.7e-05 ***\n",
      "Po1        1 3173852 3173852   83.00 4.3e-11 ***\n",
      "M.F        1  177521  177521    4.64 0.03759 *  \n",
      "U1         1       4       4    0.00 0.99191    \n",
      "U2         1  395014  395014   10.33 0.00267 ** \n",
      "Ineq       1  652440  652440   17.06 0.00019 ***\n",
      "Prob       1  247978  247978    6.49 0.01505 *  \n",
      "Residuals 38 1453068   38239                    \n",
      "---\n",
      "Signif. codes:  0 ‘***’ 0.001 ‘**’ 0.01 ‘*’ 0.05 ‘.’ 0.1 ‘ ’ 1\n",
      "\n",
      "\n"
     ]
    },
    {
     "name": "stderr",
     "output_type": "stream",
     "text": [
      "Warning message in cv.lm(data, unscaledModel_resultsOfStep2, m = 4):\n",
      "“\n",
      "\n",
      " As there is >1 explanatory variable, cross-validation\n",
      " predicted values for a fold are not a linear function\n",
      " of corresponding overall predicted values.  Lines that\n",
      " are shown for the different folds are approximate\n",
      "”"
     ]
    },
    {
     "name": "stdout",
     "output_type": "stream",
     "text": [
      "\n",
      "fold 1 \n",
      "Observations in test set: 11 \n",
      "               2     6    12  18  24   25   26     27     28    32     39\n",
      "Predicted   1430 724.3 723.1 807 850  628 1932 301.89 1197.0 785.3 797.58\n",
      "cvpred      1365 713.2 753.9 660 784  642 1711 350.45 1146.5 789.1 829.57\n",
      "Crime       1635 682.0 849.0 929 968  523 1993 342.00 1216.0 754.0 826.00\n",
      "CV residual  270 -31.2  95.1 269 184 -119  282  -8.45   69.5 -35.1  -3.57\n",
      "\n",
      "Sum of squares = 289265    Mean square = 26297    n = 11 \n",
      "\n",
      "fold 2 \n",
      "Observations in test set: 12 \n",
      "                1   9    10   11    17   22   23   29   35     40  42   45\n",
      "Predicted   730.3 686 772.7 1191 440.2  673  927 1381  745 1129.9 338  576\n",
      "cvpred      816.8 706 775.9 1108 508.8  738  907 1449  775 1132.7 365  637\n",
      "Crime       791.0 856 705.0 1674 539.0  439 1216 1043  653 1151.0 542  455\n",
      "CV residual -25.8 150 -70.9  566  30.2 -299  309 -406 -122   18.3 177 -182\n",
      "\n",
      "Sum of squares = 777694    Mean square = 64808    n = 12 \n",
      "\n",
      "fold 3 \n",
      "Observations in test set: 12 \n",
      "               5   7   14   15     20  21   33   37    38   44   46   47\n",
      "Predicted   1119 786  781  950 1227.6 760  865 1012 577.8 1163  786 1076\n",
      "cvpred       971 862  843 1110 1319.8 757  854 1055 634.3 1181  822 1216\n",
      "Crime       1234 963  664  798 1225.0 742 1072  831 566.0 1030  508  849\n",
      "CV residual  263 101 -179 -312  -94.8 -15  218 -224 -68.3 -151 -314 -367\n",
      "\n",
      "Sum of squares = 575743    Mean square = 47979    n = 12 \n",
      "\n",
      "fold 4 \n",
      "Observations in test set: 12 \n",
      "              3      4    8   13    16   19    30  31     34     36    41   43\n",
      "Predicted   392 1846.8 1391  754 943.0 1195 711.8 450  980.7 1142.0 772.5 1091\n",
      "cvpred      350 1906.1 1452  813 905.2 1321 721.1 299 1015.8 1201.2 850.4 1121\n",
      "Crime       578 1969.0 1555  511 946.0  750 696.0 373  923.0 1272.0 880.0  823\n",
      "CV residual 228   62.9  103 -302  40.8 -571 -25.1  74  -92.8   70.8  29.6 -298\n",
      "\n",
      "Sum of squares = 594958    Mean square = 49580    n = 12 \n",
      "\n",
      "Overall (Sum over all 12 folds) \n",
      "   ms \n",
      "47610 \n"
     ]
    },
    {
     "data": {
      "image/png": "[encoded data removed]",
      "text/plain": [
       "Plot with title “Small symbols show cross-validation predicted values”"
      ]
     },
     "metadata": {},
     "output_type": "display_data"
    }
   ],
   "source": [
    "cross_validated_lm <- cv.lm(data, unscaledModel_resultsOfStep2, m=4)"
   ]
  },
  {
   "cell_type": "code",
   "execution_count": null,
   "metadata": {},
   "outputs": [],
   "source": [
    "#Print attributes for analysis"
   ]
  },
  {
   "cell_type": "code",
   "execution_count": 151,
   "metadata": {},
   "outputs": [
    {
     "data": {
      "text/html": [
       "47609.7881997985"
      ],
      "text/latex": [
       "47609.7881997985"
      ],
      "text/markdown": [
       "47609.7881997985"
      ],
      "text/plain": [
       "[1] 47610"
      ]
     },
     "metadata": {},
     "output_type": "display_data"
    }
   ],
   "source": [
    "attr(cross_validated_lm, 'ms') #ms for mean squared error, contrary to some documentation"
   ]
  },
  {
   "cell_type": "code",
   "execution_count": 152,
   "metadata": {},
   "outputs": [],
   "source": [
    "overall_ms <- attr(cross_validated_lm, 'ms') * nrow(data)"
   ]
  },
  {
   "cell_type": "code",
   "execution_count": 153,
   "metadata": {},
   "outputs": [
    {
     "data": {
      "text/html": [
       "2237660.04539053"
      ],
      "text/latex": [
       "2237660.04539053"
      ],
      "text/markdown": [
       "2237660.04539053"
      ],
      "text/plain": [
       "[1] 2237660"
      ]
     },
     "metadata": {},
     "output_type": "display_data"
    }
   ],
   "source": [
    "overall_ms"
   ]
  },
  {
   "cell_type": "code",
   "execution_count": null,
   "metadata": {},
   "outputs": [],
   "source": [
    "#Remember prediction. We'll set up another type of cross-validation using caret package and performa another prediction"
   ]
  },
  {
   "cell_type": "code",
   "execution_count": 185,
   "metadata": {},
   "outputs": [
    {
     "data": {
      "text/html": [
       "<strong>1:</strong> 1038.41335997717"
      ],
      "text/latex": [
       "\\textbf{1:} 1038.41335997717"
      ],
      "text/markdown": [
       "**1:** 1038.41335997717"
      ],
      "text/plain": [
       "   1 \n",
       "1038 "
      ]
     },
     "metadata": {},
     "output_type": "display_data"
    }
   ],
   "source": [
    "predictionForTestpoint   "
   ]
  },
  {
   "cell_type": "code",
   "execution_count": null,
   "metadata": {},
   "outputs": [],
   "source": [
    "#Install caret package"
   ]
  },
  {
   "cell_type": "code",
   "execution_count": 187,
   "metadata": {},
   "outputs": [],
   "source": [
    "#install.packages(\"caret\")"
   ]
  },
  {
   "cell_type": "code",
   "execution_count": 183,
   "metadata": {},
   "outputs": [
    {
     "name": "stderr",
     "output_type": "stream",
     "text": [
      "Loading required package: ggplot2\n"
     ]
    }
   ],
   "source": [
    "library(caret)"
   ]
  },
  {
   "cell_type": "code",
   "execution_count": null,
   "metadata": {},
   "outputs": [],
   "source": [
    "#Pass predictors to linear regression model and print r squared"
   ]
  },
  {
   "cell_type": "code",
   "execution_count": 184,
   "metadata": {},
   "outputs": [
    {
     "name": "stdout",
     "output_type": "stream",
     "text": [
      "Linear Regression \n",
      "\n",
      "47 samples\n",
      " 8 predictor\n",
      "\n",
      "No pre-processing\n",
      "Resampling: Cross-Validated (4 fold) \n",
      "Summary of sample sizes: 36, 35, 35, 35 \n",
      "Resampling results:\n",
      "\n",
      "  RMSE  Rsquared  MAE\n",
      "  223   0.683     181\n",
      "\n",
      "Tuning parameter 'intercept' was held constant at a value of TRUE\n"
     ]
    }
   ],
   "source": [
    "set.seed(123) \n",
    "train.control <- trainControl(method = \"cv\", number = 4)\n",
    "# Train the model\n",
    "model <- train(Crime ~M + Ed + Po1 + M.F + U1 + U2 + Ineq + Prob, data = data, method = \"lm\",\n",
    "               trControl = train.control)\n",
    "# Summarize the results\n",
    "print(model)"
   ]
  },
  {
   "cell_type": "code",
   "execution_count": null,
   "metadata": {},
   "outputs": [],
   "source": [
    "#R squared is 68 percent indicting the earlier 74% can be attributed to overfitting"
   ]
  },
  {
   "cell_type": "code",
   "execution_count": null,
   "metadata": {},
   "outputs": [],
   "source": [
    "#Print new prediction"
   ]
  },
  {
   "cell_type": "code",
   "execution_count": 188,
   "metadata": {},
   "outputs": [],
   "source": [
    "prediction2ForTestpoint <- predict(model,data_point)"
   ]
  },
  {
   "cell_type": "code",
   "execution_count": 189,
   "metadata": {},
   "outputs": [
    {
     "data": {
      "text/html": [
       "<strong>1:</strong> 1038.41335997717"
      ],
      "text/latex": [
       "\\textbf{1:} 1038.41335997717"
      ],
      "text/markdown": [
       "**1:** 1038.41335997717"
      ],
      "text/plain": [
       "   1 \n",
       "1038 "
      ]
     },
     "metadata": {},
     "output_type": "display_data"
    }
   ],
   "source": [
    "prediction2ForTestpoint"
   ]
  },
  {
   "cell_type": "code",
   "execution_count": 190,
   "metadata": {},
   "outputs": [],
   "source": [
    "#Original prediction for test point with overfitting"
   ]
  },
  {
   "cell_type": "code",
   "execution_count": 191,
   "metadata": {},
   "outputs": [
    {
     "data": {
      "text/html": [
       "<strong>1:</strong> 1038.41335997717"
      ],
      "text/latex": [
       "\\textbf{1:} 1038.41335997717"
      ],
      "text/markdown": [
       "**1:** 1038.41335997717"
      ],
      "text/plain": [
       "   1 \n",
       "1038 "
      ]
     },
     "metadata": {},
     "output_type": "display_data"
    }
   ],
   "source": [
    "predictionForTestpoint   "
   ]
  },
  {
   "cell_type": "code",
   "execution_count": null,
   "metadata": {},
   "outputs": [],
   "source": [
    "#Predictions were the same"
   ]
  }
 ],
 "metadata": {
  "kernelspec": {
   "display_name": "R",
   "language": "R",
   "name": "ir"
  },
  "language_info": {
   "codemirror_mode": "r",
   "file_extension": ".r",
   "mimetype": "text/x-r-source",
   "name": "R",
   "pygments_lexer": "r",
   "version": "3.4.1"
  }
 },
 "nbformat": 4,
 "nbformat_minor": 2
}
