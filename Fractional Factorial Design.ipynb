{
 "cells": [
  {
   "cell_type": "code",
   "execution_count": 13,
   "metadata": {},
   "outputs": [],
   "source": [
    "#Fractional factorial with 16 features"
   ]
  },
  {
   "cell_type": "code",
   "execution_count": null,
   "metadata": {},
   "outputs": [],
   "source": []
  },
  {
   "cell_type": "code",
   "execution_count": 14,
   "metadata": {},
   "outputs": [],
   "source": [
    "#install.packages('FrF2')"
   ]
  },
  {
   "cell_type": "code",
   "execution_count": 15,
   "metadata": {},
   "outputs": [],
   "source": [
    "library(FrF2)"
   ]
  },
  {
   "cell_type": "code",
   "execution_count": 24,
   "metadata": {},
   "outputs": [],
   "source": [
    "#  16 houses with 10 different factors"
   ]
  },
  {
   "cell_type": "code",
   "execution_count": 25,
   "metadata": {},
   "outputs": [],
   "source": [
    "Option1 <- FrF2(16,10,factor.names = c(\"Backyard\", \"Pool\", \"Skylight\", \"Master Bath\", \"Finished Basement\",\n",
    "\"Study\", \"Den\", \"Carpeted Stairs\", \"Balcony\", \"Kitchenette\"), default.levels = c(\"No\", \"Yes\"))"
   ]
  },
  {
   "cell_type": "code",
   "execution_count": 26,
   "metadata": {},
   "outputs": [
    {
     "data": {
      "text/html": [
       "<table>\n",
       "<thead><tr><th scope=col>Backyard</th><th scope=col>Pool</th><th scope=col>Skylight</th><th scope=col>Master.Bath</th><th scope=col>Finished.Basement</th><th scope=col>Study</th><th scope=col>Den</th><th scope=col>Carpeted.Stairs</th><th scope=col>Balcony</th><th scope=col>Kitchenette</th></tr></thead>\n",
       "<tbody>\n",
       "\t<tr><td>No </td><td>Yes</td><td>No </td><td>No </td><td>No </td><td>Yes</td><td>No </td><td>Yes</td><td>Yes</td><td>No </td></tr>\n",
       "\t<tr><td>Yes</td><td>No </td><td>Yes</td><td>Yes</td><td>No </td><td>Yes</td><td>No </td><td>Yes</td><td>No </td><td>No </td></tr>\n",
       "\t<tr><td>No </td><td>No </td><td>Yes</td><td>No </td><td>Yes</td><td>No </td><td>No </td><td>Yes</td><td>Yes</td><td>No </td></tr>\n",
       "\t<tr><td>No </td><td>Yes</td><td>Yes</td><td>Yes</td><td>No </td><td>No </td><td>Yes</td><td>No </td><td>Yes</td><td>No </td></tr>\n",
       "\t<tr><td>No </td><td>No </td><td>Yes</td><td>Yes</td><td>Yes</td><td>No </td><td>No </td><td>No </td><td>No </td><td>Yes</td></tr>\n",
       "\t<tr><td>No </td><td>No </td><td>No </td><td>No </td><td>Yes</td><td>Yes</td><td>Yes</td><td>Yes</td><td>No </td><td>Yes</td></tr>\n",
       "\t<tr><td>Yes</td><td>Yes</td><td>No </td><td>No </td><td>Yes</td><td>No </td><td>No </td><td>No </td><td>Yes</td><td>Yes</td></tr>\n",
       "\t<tr><td>No </td><td>Yes</td><td>Yes</td><td>No </td><td>No </td><td>No </td><td>Yes</td><td>Yes</td><td>No </td><td>Yes</td></tr>\n",
       "\t<tr><td>Yes</td><td>Yes</td><td>No </td><td>Yes</td><td>Yes</td><td>No </td><td>No </td><td>Yes</td><td>No </td><td>No </td></tr>\n",
       "\t<tr><td>Yes</td><td>No </td><td>No </td><td>Yes</td><td>No </td><td>No </td><td>Yes</td><td>Yes</td><td>Yes</td><td>Yes</td></tr>\n",
       "\t<tr><td>No </td><td>Yes</td><td>No </td><td>Yes</td><td>No </td><td>Yes</td><td>No </td><td>No </td><td>No </td><td>Yes</td></tr>\n",
       "\t<tr><td>Yes</td><td>Yes</td><td>Yes</td><td>No </td><td>Yes</td><td>Yes</td><td>Yes</td><td>No </td><td>No </td><td>No </td></tr>\n",
       "\t<tr><td>Yes</td><td>No </td><td>Yes</td><td>No </td><td>No </td><td>Yes</td><td>No </td><td>No </td><td>Yes</td><td>Yes</td></tr>\n",
       "\t<tr><td>No </td><td>No </td><td>No </td><td>Yes</td><td>Yes</td><td>Yes</td><td>Yes</td><td>No </td><td>Yes</td><td>No </td></tr>\n",
       "\t<tr><td>Yes</td><td>No </td><td>No </td><td>No </td><td>No </td><td>No </td><td>Yes</td><td>No </td><td>No </td><td>No </td></tr>\n",
       "\t<tr><td>Yes</td><td>Yes</td><td>Yes</td><td>Yes</td><td>Yes</td><td>Yes</td><td>Yes</td><td>Yes</td><td>Yes</td><td>Yes</td></tr>\n",
       "</tbody>\n",
       "</table>\n"
      ],
      "text/latex": [
       "\\begin{tabular}{r|llllllllll}\n",
       " Backyard & Pool & Skylight & Master.Bath & Finished.Basement & Study & Den & Carpeted.Stairs & Balcony & Kitchenette\\\\\n",
       "\\hline\n",
       "\t No  & Yes & No  & No  & No  & Yes & No  & Yes & Yes & No \\\\\n",
       "\t Yes & No  & Yes & Yes & No  & Yes & No  & Yes & No  & No \\\\\n",
       "\t No  & No  & Yes & No  & Yes & No  & No  & Yes & Yes & No \\\\\n",
       "\t No  & Yes & Yes & Yes & No  & No  & Yes & No  & Yes & No \\\\\n",
       "\t No  & No  & Yes & Yes & Yes & No  & No  & No  & No  & Yes\\\\\n",
       "\t No  & No  & No  & No  & Yes & Yes & Yes & Yes & No  & Yes\\\\\n",
       "\t Yes & Yes & No  & No  & Yes & No  & No  & No  & Yes & Yes\\\\\n",
       "\t No  & Yes & Yes & No  & No  & No  & Yes & Yes & No  & Yes\\\\\n",
       "\t Yes & Yes & No  & Yes & Yes & No  & No  & Yes & No  & No \\\\\n",
       "\t Yes & No  & No  & Yes & No  & No  & Yes & Yes & Yes & Yes\\\\\n",
       "\t No  & Yes & No  & Yes & No  & Yes & No  & No  & No  & Yes\\\\\n",
       "\t Yes & Yes & Yes & No  & Yes & Yes & Yes & No  & No  & No \\\\\n",
       "\t Yes & No  & Yes & No  & No  & Yes & No  & No  & Yes & Yes\\\\\n",
       "\t No  & No  & No  & Yes & Yes & Yes & Yes & No  & Yes & No \\\\\n",
       "\t Yes & No  & No  & No  & No  & No  & Yes & No  & No  & No \\\\\n",
       "\t Yes & Yes & Yes & Yes & Yes & Yes & Yes & Yes & Yes & Yes\\\\\n",
       "\\end{tabular}\n"
      ],
      "text/markdown": [
       "\n",
       "Backyard | Pool | Skylight | Master.Bath | Finished.Basement | Study | Den | Carpeted.Stairs | Balcony | Kitchenette | \n",
       "|---|---|---|---|---|---|---|---|---|---|---|---|---|---|---|---|\n",
       "| No  | Yes | No  | No  | No  | Yes | No  | Yes | Yes | No  | \n",
       "| Yes | No  | Yes | Yes | No  | Yes | No  | Yes | No  | No  | \n",
       "| No  | No  | Yes | No  | Yes | No  | No  | Yes | Yes | No  | \n",
       "| No  | Yes | Yes | Yes | No  | No  | Yes | No  | Yes | No  | \n",
       "| No  | No  | Yes | Yes | Yes | No  | No  | No  | No  | Yes | \n",
       "| No  | No  | No  | No  | Yes | Yes | Yes | Yes | No  | Yes | \n",
       "| Yes | Yes | No  | No  | Yes | No  | No  | No  | Yes | Yes | \n",
       "| No  | Yes | Yes | No  | No  | No  | Yes | Yes | No  | Yes | \n",
       "| Yes | Yes | No  | Yes | Yes | No  | No  | Yes | No  | No  | \n",
       "| Yes | No  | No  | Yes | No  | No  | Yes | Yes | Yes | Yes | \n",
       "| No  | Yes | No  | Yes | No  | Yes | No  | No  | No  | Yes | \n",
       "| Yes | Yes | Yes | No  | Yes | Yes | Yes | No  | No  | No  | \n",
       "| Yes | No  | Yes | No  | No  | Yes | No  | No  | Yes | Yes | \n",
       "| No  | No  | No  | Yes | Yes | Yes | Yes | No  | Yes | No  | \n",
       "| Yes | No  | No  | No  | No  | No  | Yes | No  | No  | No  | \n",
       "| Yes | Yes | Yes | Yes | Yes | Yes | Yes | Yes | Yes | Yes | \n",
       "\n",
       "\n"
      ],
      "text/plain": [
       "   Backyard Pool Skylight Master.Bath Finished.Basement Study Den\n",
       "1  No       Yes  No       No          No                Yes   No \n",
       "2  Yes      No   Yes      Yes         No                Yes   No \n",
       "3  No       No   Yes      No          Yes               No    No \n",
       "4  No       Yes  Yes      Yes         No                No    Yes\n",
       "5  No       No   Yes      Yes         Yes               No    No \n",
       "6  No       No   No       No          Yes               Yes   Yes\n",
       "7  Yes      Yes  No       No          Yes               No    No \n",
       "8  No       Yes  Yes      No          No                No    Yes\n",
       "9  Yes      Yes  No       Yes         Yes               No    No \n",
       "10 Yes      No   No       Yes         No                No    Yes\n",
       "11 No       Yes  No       Yes         No                Yes   No \n",
       "12 Yes      Yes  Yes      No          Yes               Yes   Yes\n",
       "13 Yes      No   Yes      No          No                Yes   No \n",
       "14 No       No   No       Yes         Yes               Yes   Yes\n",
       "15 Yes      No   No       No          No                No    Yes\n",
       "16 Yes      Yes  Yes      Yes         Yes               Yes   Yes\n",
       "   Carpeted.Stairs Balcony Kitchenette\n",
       "1  Yes             Yes     No         \n",
       "2  Yes             No      No         \n",
       "3  Yes             Yes     No         \n",
       "4  No              Yes     No         \n",
       "5  No              No      Yes        \n",
       "6  Yes             No      Yes        \n",
       "7  No              Yes     Yes        \n",
       "8  Yes             No      Yes        \n",
       "9  Yes             No      No         \n",
       "10 Yes             Yes     Yes        \n",
       "11 No              No      Yes        \n",
       "12 No              No      No         \n",
       "13 No              Yes     Yes        \n",
       "14 No              Yes     No         \n",
       "15 No              No      No         \n",
       "16 Yes             Yes     Yes        "
      ]
     },
     "metadata": {},
     "output_type": "display_data"
    }
   ],
   "source": [
    "Option1"
   ]
  },
  {
   "cell_type": "code",
   "execution_count": 27,
   "metadata": {},
   "outputs": [],
   "source": [
    "Option2 <- FrF2(16,10,factor.names = c(\"Backyard\", \"Pool\", \"Skylight\", \"Master Bath\", \"Finished Basement\",\n",
    "\"Study\", \"Den\", \"Carpeted Stairs\", \"Balcony\", \"Kitchenette\"), default.levels = c(\"No\", \"Yes\"))"
   ]
  },
  {
   "cell_type": "code",
   "execution_count": 28,
   "metadata": {},
   "outputs": [
    {
     "data": {
      "text/html": [
       "<table>\n",
       "<thead><tr><th scope=col>Backyard</th><th scope=col>Pool</th><th scope=col>Skylight</th><th scope=col>Master.Bath</th><th scope=col>Finished.Basement</th><th scope=col>Study</th><th scope=col>Den</th><th scope=col>Carpeted.Stairs</th><th scope=col>Balcony</th><th scope=col>Kitchenette</th></tr></thead>\n",
       "<tbody>\n",
       "\t<tr><td>No </td><td>Yes</td><td>No </td><td>No </td><td>No </td><td>Yes</td><td>No </td><td>Yes</td><td>Yes</td><td>No </td></tr>\n",
       "\t<tr><td>Yes</td><td>Yes</td><td>Yes</td><td>No </td><td>Yes</td><td>Yes</td><td>Yes</td><td>No </td><td>No </td><td>No </td></tr>\n",
       "\t<tr><td>Yes</td><td>No </td><td>Yes</td><td>Yes</td><td>No </td><td>Yes</td><td>No </td><td>Yes</td><td>No </td><td>No </td></tr>\n",
       "\t<tr><td>Yes</td><td>No </td><td>No </td><td>Yes</td><td>No </td><td>No </td><td>Yes</td><td>Yes</td><td>Yes</td><td>Yes</td></tr>\n",
       "\t<tr><td>No </td><td>Yes</td><td>No </td><td>Yes</td><td>No </td><td>Yes</td><td>No </td><td>No </td><td>No </td><td>Yes</td></tr>\n",
       "\t<tr><td>Yes</td><td>No </td><td>No </td><td>No </td><td>No </td><td>No </td><td>Yes</td><td>No </td><td>No </td><td>No </td></tr>\n",
       "\t<tr><td>Yes</td><td>Yes</td><td>No </td><td>Yes</td><td>Yes</td><td>No </td><td>No </td><td>Yes</td><td>No </td><td>No </td></tr>\n",
       "\t<tr><td>Yes</td><td>Yes</td><td>Yes</td><td>Yes</td><td>Yes</td><td>Yes</td><td>Yes</td><td>Yes</td><td>Yes</td><td>Yes</td></tr>\n",
       "\t<tr><td>No </td><td>No </td><td>No </td><td>Yes</td><td>Yes</td><td>Yes</td><td>Yes</td><td>No </td><td>Yes</td><td>No </td></tr>\n",
       "\t<tr><td>No </td><td>Yes</td><td>Yes</td><td>Yes</td><td>No </td><td>No </td><td>Yes</td><td>No </td><td>Yes</td><td>No </td></tr>\n",
       "\t<tr><td>Yes</td><td>Yes</td><td>No </td><td>No </td><td>Yes</td><td>No </td><td>No </td><td>No </td><td>Yes</td><td>Yes</td></tr>\n",
       "\t<tr><td>No </td><td>No </td><td>Yes</td><td>No </td><td>Yes</td><td>No </td><td>No </td><td>Yes</td><td>Yes</td><td>No </td></tr>\n",
       "\t<tr><td>No </td><td>Yes</td><td>Yes</td><td>No </td><td>No </td><td>No </td><td>Yes</td><td>Yes</td><td>No </td><td>Yes</td></tr>\n",
       "\t<tr><td>Yes</td><td>No </td><td>Yes</td><td>No </td><td>No </td><td>Yes</td><td>No </td><td>No </td><td>Yes</td><td>Yes</td></tr>\n",
       "\t<tr><td>No </td><td>No </td><td>No </td><td>No </td><td>Yes</td><td>Yes</td><td>Yes</td><td>Yes</td><td>No </td><td>Yes</td></tr>\n",
       "\t<tr><td>No </td><td>No </td><td>Yes</td><td>Yes</td><td>Yes</td><td>No </td><td>No </td><td>No </td><td>No </td><td>Yes</td></tr>\n",
       "</tbody>\n",
       "</table>\n"
      ],
      "text/latex": [
       "\\begin{tabular}{r|llllllllll}\n",
       " Backyard & Pool & Skylight & Master.Bath & Finished.Basement & Study & Den & Carpeted.Stairs & Balcony & Kitchenette\\\\\n",
       "\\hline\n",
       "\t No  & Yes & No  & No  & No  & Yes & No  & Yes & Yes & No \\\\\n",
       "\t Yes & Yes & Yes & No  & Yes & Yes & Yes & No  & No  & No \\\\\n",
       "\t Yes & No  & Yes & Yes & No  & Yes & No  & Yes & No  & No \\\\\n",
       "\t Yes & No  & No  & Yes & No  & No  & Yes & Yes & Yes & Yes\\\\\n",
       "\t No  & Yes & No  & Yes & No  & Yes & No  & No  & No  & Yes\\\\\n",
       "\t Yes & No  & No  & No  & No  & No  & Yes & No  & No  & No \\\\\n",
       "\t Yes & Yes & No  & Yes & Yes & No  & No  & Yes & No  & No \\\\\n",
       "\t Yes & Yes & Yes & Yes & Yes & Yes & Yes & Yes & Yes & Yes\\\\\n",
       "\t No  & No  & No  & Yes & Yes & Yes & Yes & No  & Yes & No \\\\\n",
       "\t No  & Yes & Yes & Yes & No  & No  & Yes & No  & Yes & No \\\\\n",
       "\t Yes & Yes & No  & No  & Yes & No  & No  & No  & Yes & Yes\\\\\n",
       "\t No  & No  & Yes & No  & Yes & No  & No  & Yes & Yes & No \\\\\n",
       "\t No  & Yes & Yes & No  & No  & No  & Yes & Yes & No  & Yes\\\\\n",
       "\t Yes & No  & Yes & No  & No  & Yes & No  & No  & Yes & Yes\\\\\n",
       "\t No  & No  & No  & No  & Yes & Yes & Yes & Yes & No  & Yes\\\\\n",
       "\t No  & No  & Yes & Yes & Yes & No  & No  & No  & No  & Yes\\\\\n",
       "\\end{tabular}\n"
      ],
      "text/markdown": [
       "\n",
       "Backyard | Pool | Skylight | Master.Bath | Finished.Basement | Study | Den | Carpeted.Stairs | Balcony | Kitchenette | \n",
       "|---|---|---|---|---|---|---|---|---|---|---|---|---|---|---|---|\n",
       "| No  | Yes | No  | No  | No  | Yes | No  | Yes | Yes | No  | \n",
       "| Yes | Yes | Yes | No  | Yes | Yes | Yes | No  | No  | No  | \n",
       "| Yes | No  | Yes | Yes | No  | Yes | No  | Yes | No  | No  | \n",
       "| Yes | No  | No  | Yes | No  | No  | Yes | Yes | Yes | Yes | \n",
       "| No  | Yes | No  | Yes | No  | Yes | No  | No  | No  | Yes | \n",
       "| Yes | No  | No  | No  | No  | No  | Yes | No  | No  | No  | \n",
       "| Yes | Yes | No  | Yes | Yes | No  | No  | Yes | No  | No  | \n",
       "| Yes | Yes | Yes | Yes | Yes | Yes | Yes | Yes | Yes | Yes | \n",
       "| No  | No  | No  | Yes | Yes | Yes | Yes | No  | Yes | No  | \n",
       "| No  | Yes | Yes | Yes | No  | No  | Yes | No  | Yes | No  | \n",
       "| Yes | Yes | No  | No  | Yes | No  | No  | No  | Yes | Yes | \n",
       "| No  | No  | Yes | No  | Yes | No  | No  | Yes | Yes | No  | \n",
       "| No  | Yes | Yes | No  | No  | No  | Yes | Yes | No  | Yes | \n",
       "| Yes | No  | Yes | No  | No  | Yes | No  | No  | Yes | Yes | \n",
       "| No  | No  | No  | No  | Yes | Yes | Yes | Yes | No  | Yes | \n",
       "| No  | No  | Yes | Yes | Yes | No  | No  | No  | No  | Yes | \n",
       "\n",
       "\n"
      ],
      "text/plain": [
       "   Backyard Pool Skylight Master.Bath Finished.Basement Study Den\n",
       "1  No       Yes  No       No          No                Yes   No \n",
       "2  Yes      Yes  Yes      No          Yes               Yes   Yes\n",
       "3  Yes      No   Yes      Yes         No                Yes   No \n",
       "4  Yes      No   No       Yes         No                No    Yes\n",
       "5  No       Yes  No       Yes         No                Yes   No \n",
       "6  Yes      No   No       No          No                No    Yes\n",
       "7  Yes      Yes  No       Yes         Yes               No    No \n",
       "8  Yes      Yes  Yes      Yes         Yes               Yes   Yes\n",
       "9  No       No   No       Yes         Yes               Yes   Yes\n",
       "10 No       Yes  Yes      Yes         No                No    Yes\n",
       "11 Yes      Yes  No       No          Yes               No    No \n",
       "12 No       No   Yes      No          Yes               No    No \n",
       "13 No       Yes  Yes      No          No                No    Yes\n",
       "14 Yes      No   Yes      No          No                Yes   No \n",
       "15 No       No   No       No          Yes               Yes   Yes\n",
       "16 No       No   Yes      Yes         Yes               No    No \n",
       "   Carpeted.Stairs Balcony Kitchenette\n",
       "1  Yes             Yes     No         \n",
       "2  No              No      No         \n",
       "3  Yes             No      No         \n",
       "4  Yes             Yes     Yes        \n",
       "5  No              No      Yes        \n",
       "6  No              No      No         \n",
       "7  Yes             No      No         \n",
       "8  Yes             Yes     Yes        \n",
       "9  No              Yes     No         \n",
       "10 No              Yes     No         \n",
       "11 No              Yes     Yes        \n",
       "12 Yes             Yes     No         \n",
       "13 Yes             No      Yes        \n",
       "14 No              Yes     Yes        \n",
       "15 Yes             No      Yes        \n",
       "16 No              No      Yes        "
      ]
     },
     "metadata": {},
     "output_type": "display_data"
    }
   ],
   "source": [
    "Option2"
   ]
  },
  {
   "cell_type": "code",
   "execution_count": null,
   "metadata": {},
   "outputs": [],
   "source": []
  },
  {
   "cell_type": "code",
   "execution_count": null,
   "metadata": {},
   "outputs": [],
   "source": []
  }
 ],
 "metadata": {
  "kernelspec": {
   "display_name": "R",
   "language": "R",
   "name": "ir"
  },
  "language_info": {
   "codemirror_mode": "r",
   "file_extension": ".r",
   "mimetype": "text/x-r-source",
   "name": "R",
   "pygments_lexer": "r",
   "version": "3.4.1"
  }
 },
 "nbformat": 4,
 "nbformat_minor": 2
}
