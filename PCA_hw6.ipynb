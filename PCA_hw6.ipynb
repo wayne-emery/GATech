{
 "cells": [
  {
   "cell_type": "code",
   "execution_count": 1,
   "metadata": {},
   "outputs": [],
   "source": [
    "#PCA analysis with uscrime data"
   ]
  },
  {
   "cell_type": "code",
   "execution_count": 2,
   "metadata": {},
   "outputs": [
    {
     "ename": "ERROR",
     "evalue": "Error in read.table(uscrime.txt, stringsAsFactors = F, header = T): object 'uscrime.txt' not found\n",
     "output_type": "error",
     "traceback": [
      "Error in read.table(uscrime.txt, stringsAsFactors = F, header = T): object 'uscrime.txt' not found\nTraceback:\n",
      "1. read.table(uscrime.txt, stringsAsFactors = F, header = T)"
     ]
    }
   ],
   "source": [
    "data <- read.table(uscrime.txt, stringsAsFactors = F, header = T)"
   ]
  },
  {
   "cell_type": "code",
   "execution_count": null,
   "metadata": {},
   "outputs": [],
   "source": []
  }
 ],
 "metadata": {
  "kernelspec": {
   "display_name": "R",
   "language": "R",
   "name": "ir"
  },
  "language_info": {
   "codemirror_mode": "r",
   "file_extension": ".r",
   "mimetype": "text/x-r-source",
   "name": "R",
   "pygments_lexer": "r",
   "version": "3.4.1"
  }
 },
 "nbformat": 4,
 "nbformat_minor": 2
}
