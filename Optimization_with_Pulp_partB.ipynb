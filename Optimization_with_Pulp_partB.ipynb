{
 "cells": [
  {
   "cell_type": "code",
   "execution_count": 1,
   "metadata": {},
   "outputs": [],
   "source": [
    "#Optimization"
   ]
  },
  {
   "cell_type": "code",
   "execution_count": 2,
   "metadata": {},
   "outputs": [],
   "source": [
    "from pulp import *\n",
    "import pandas as pd"
   ]
  },
  {
   "cell_type": "code",
   "execution_count": 3,
   "metadata": {},
   "outputs": [],
   "source": [
    "foodData = pd.read_excel(\"diet.xls\")   #Read in data\n",
    "constraint_info = foodData[65:68]"
   ]
  },
  {
   "cell_type": "code",
   "execution_count": 4,
   "metadata": {},
   "outputs": [
    {
     "data": {
      "text/html": [
       "<div>\n",
       "<style scoped>\n",
       "    .dataframe tbody tr th:only-of-type {\n",
       "        vertical-align: middle;\n",
       "    }\n",
       "\n",
       "    .dataframe tbody tr th {\n",
       "        vertical-align: top;\n",
       "    }\n",
       "\n",
       "    .dataframe thead th {\n",
       "        text-align: right;\n",
       "    }\n",
       "</style>\n",
       "<table border=\"1\" class=\"dataframe\">\n",
       "  <thead>\n",
       "    <tr style=\"text-align: right;\">\n",
       "      <th></th>\n",
       "      <th>Foods</th>\n",
       "      <th>Price/ Serving</th>\n",
       "      <th>Serving Size</th>\n",
       "      <th>Calories</th>\n",
       "      <th>Cholesterol mg</th>\n",
       "      <th>Total_Fat g</th>\n",
       "      <th>Sodium mg</th>\n",
       "      <th>Carbohydrates g</th>\n",
       "      <th>Dietary_Fiber g</th>\n",
       "      <th>Protein g</th>\n",
       "      <th>Vit_A IU</th>\n",
       "      <th>Vit_C IU</th>\n",
       "      <th>Calcium mg</th>\n",
       "      <th>Iron mg</th>\n",
       "    </tr>\n",
       "  </thead>\n",
       "  <tbody>\n",
       "    <tr>\n",
       "      <th>65</th>\n",
       "      <td>NaN</td>\n",
       "      <td>NaN</td>\n",
       "      <td>Minimum daily intake</td>\n",
       "      <td>1500.0</td>\n",
       "      <td>30.0</td>\n",
       "      <td>20.0</td>\n",
       "      <td>800.0</td>\n",
       "      <td>130.0</td>\n",
       "      <td>125.0</td>\n",
       "      <td>60.0</td>\n",
       "      <td>1000.0</td>\n",
       "      <td>400.0</td>\n",
       "      <td>700.0</td>\n",
       "      <td>10.0</td>\n",
       "    </tr>\n",
       "    <tr>\n",
       "      <th>66</th>\n",
       "      <td>NaN</td>\n",
       "      <td>NaN</td>\n",
       "      <td>Maximum daily intake</td>\n",
       "      <td>2500.0</td>\n",
       "      <td>240.0</td>\n",
       "      <td>70.0</td>\n",
       "      <td>2000.0</td>\n",
       "      <td>450.0</td>\n",
       "      <td>250.0</td>\n",
       "      <td>100.0</td>\n",
       "      <td>10000.0</td>\n",
       "      <td>5000.0</td>\n",
       "      <td>1500.0</td>\n",
       "      <td>40.0</td>\n",
       "    </tr>\n",
       "  </tbody>\n",
       "</table>\n",
       "</div>"
      ],
      "text/plain": [
       "   Foods  Price/ Serving          Serving Size  Calories  Cholesterol mg  \\\n",
       "65   NaN             NaN  Minimum daily intake    1500.0            30.0   \n",
       "66   NaN             NaN  Maximum daily intake    2500.0           240.0   \n",
       "\n",
       "    Total_Fat g  Sodium mg  Carbohydrates g  Dietary_Fiber g  Protein g  \\\n",
       "65         20.0      800.0            130.0            125.0       60.0   \n",
       "66         70.0     2000.0            450.0            250.0      100.0   \n",
       "\n",
       "    Vit_A IU  Vit_C IU  Calcium mg  Iron mg  \n",
       "65    1000.0     400.0       700.0     10.0  \n",
       "66   10000.0    5000.0      1500.0     40.0  "
      ]
     },
     "execution_count": 4,
     "metadata": {},
     "output_type": "execute_result"
    }
   ],
   "source": [
    "constraint_info  #Constraint data will help us later while we write constraints"
   ]
  },
  {
   "cell_type": "code",
   "execution_count": 5,
   "metadata": {},
   "outputs": [
    {
     "data": {
      "text/html": [
       "<div>\n",
       "<style scoped>\n",
       "    .dataframe tbody tr th:only-of-type {\n",
       "        vertical-align: middle;\n",
       "    }\n",
       "\n",
       "    .dataframe tbody tr th {\n",
       "        vertical-align: top;\n",
       "    }\n",
       "\n",
       "    .dataframe thead th {\n",
       "        text-align: right;\n",
       "    }\n",
       "</style>\n",
       "<table border=\"1\" class=\"dataframe\">\n",
       "  <thead>\n",
       "    <tr style=\"text-align: right;\">\n",
       "      <th></th>\n",
       "      <th>Foods</th>\n",
       "      <th>Price/ Serving</th>\n",
       "      <th>Serving Size</th>\n",
       "      <th>Calories</th>\n",
       "      <th>Cholesterol mg</th>\n",
       "      <th>Total_Fat g</th>\n",
       "      <th>Sodium mg</th>\n",
       "      <th>Carbohydrates g</th>\n",
       "      <th>Dietary_Fiber g</th>\n",
       "      <th>Protein g</th>\n",
       "      <th>Vit_A IU</th>\n",
       "      <th>Vit_C IU</th>\n",
       "      <th>Calcium mg</th>\n",
       "      <th>Iron mg</th>\n",
       "    </tr>\n",
       "  </thead>\n",
       "  <tbody>\n",
       "    <tr>\n",
       "      <th>0</th>\n",
       "      <td>Frozen Broccoli</td>\n",
       "      <td>0.16</td>\n",
       "      <td>10 Oz Pkg</td>\n",
       "      <td>73.8</td>\n",
       "      <td>0.0</td>\n",
       "      <td>0.8</td>\n",
       "      <td>68.2</td>\n",
       "      <td>13.6</td>\n",
       "      <td>8.5</td>\n",
       "      <td>8.0</td>\n",
       "      <td>5867.4</td>\n",
       "      <td>160.2</td>\n",
       "      <td>159.0</td>\n",
       "      <td>2.3</td>\n",
       "    </tr>\n",
       "    <tr>\n",
       "      <th>1</th>\n",
       "      <td>Carrots,Raw</td>\n",
       "      <td>0.07</td>\n",
       "      <td>1/2 Cup Shredded</td>\n",
       "      <td>23.7</td>\n",
       "      <td>0.0</td>\n",
       "      <td>0.1</td>\n",
       "      <td>19.2</td>\n",
       "      <td>5.6</td>\n",
       "      <td>1.6</td>\n",
       "      <td>0.6</td>\n",
       "      <td>15471.0</td>\n",
       "      <td>5.1</td>\n",
       "      <td>14.9</td>\n",
       "      <td>0.3</td>\n",
       "    </tr>\n",
       "    <tr>\n",
       "      <th>2</th>\n",
       "      <td>Celery, Raw</td>\n",
       "      <td>0.04</td>\n",
       "      <td>1 Stalk</td>\n",
       "      <td>6.4</td>\n",
       "      <td>0.0</td>\n",
       "      <td>0.1</td>\n",
       "      <td>34.8</td>\n",
       "      <td>1.5</td>\n",
       "      <td>0.7</td>\n",
       "      <td>0.3</td>\n",
       "      <td>53.6</td>\n",
       "      <td>2.8</td>\n",
       "      <td>16.0</td>\n",
       "      <td>0.2</td>\n",
       "    </tr>\n",
       "    <tr>\n",
       "      <th>3</th>\n",
       "      <td>Frozen Corn</td>\n",
       "      <td>0.18</td>\n",
       "      <td>1/2 Cup</td>\n",
       "      <td>72.2</td>\n",
       "      <td>0.0</td>\n",
       "      <td>0.6</td>\n",
       "      <td>2.5</td>\n",
       "      <td>17.1</td>\n",
       "      <td>2.0</td>\n",
       "      <td>2.5</td>\n",
       "      <td>106.6</td>\n",
       "      <td>5.2</td>\n",
       "      <td>3.3</td>\n",
       "      <td>0.3</td>\n",
       "    </tr>\n",
       "    <tr>\n",
       "      <th>4</th>\n",
       "      <td>Lettuce,Iceberg,Raw</td>\n",
       "      <td>0.02</td>\n",
       "      <td>1 Leaf</td>\n",
       "      <td>2.6</td>\n",
       "      <td>0.0</td>\n",
       "      <td>0.0</td>\n",
       "      <td>1.8</td>\n",
       "      <td>0.4</td>\n",
       "      <td>0.3</td>\n",
       "      <td>0.2</td>\n",
       "      <td>66.0</td>\n",
       "      <td>0.8</td>\n",
       "      <td>3.8</td>\n",
       "      <td>0.1</td>\n",
       "    </tr>\n",
       "  </tbody>\n",
       "</table>\n",
       "</div>"
      ],
      "text/plain": [
       "                 Foods  Price/ Serving      Serving Size  Calories  \\\n",
       "0      Frozen Broccoli            0.16         10 Oz Pkg      73.8   \n",
       "1          Carrots,Raw            0.07  1/2 Cup Shredded      23.7   \n",
       "2          Celery, Raw            0.04           1 Stalk       6.4   \n",
       "3          Frozen Corn            0.18           1/2 Cup      72.2   \n",
       "4  Lettuce,Iceberg,Raw            0.02            1 Leaf       2.6   \n",
       "\n",
       "   Cholesterol mg  Total_Fat g  Sodium mg  Carbohydrates g  Dietary_Fiber g  \\\n",
       "0             0.0          0.8       68.2             13.6              8.5   \n",
       "1             0.0          0.1       19.2              5.6              1.6   \n",
       "2             0.0          0.1       34.8              1.5              0.7   \n",
       "3             0.0          0.6        2.5             17.1              2.0   \n",
       "4             0.0          0.0        1.8              0.4              0.3   \n",
       "\n",
       "   Protein g  Vit_A IU  Vit_C IU  Calcium mg  Iron mg  \n",
       "0        8.0    5867.4     160.2       159.0      2.3  \n",
       "1        0.6   15471.0       5.1        14.9      0.3  \n",
       "2        0.3      53.6       2.8        16.0      0.2  \n",
       "3        2.5     106.6       5.2         3.3      0.3  \n",
       "4        0.2      66.0       0.8         3.8      0.1  "
      ]
     },
     "execution_count": 5,
     "metadata": {},
     "output_type": "execute_result"
    }
   ],
   "source": [
    "foodData.head()"
   ]
  },
  {
   "cell_type": "code",
   "execution_count": 6,
   "metadata": {},
   "outputs": [
    {
     "data": {
      "text/html": [
       "<div>\n",
       "<style scoped>\n",
       "    .dataframe tbody tr th:only-of-type {\n",
       "        vertical-align: middle;\n",
       "    }\n",
       "\n",
       "    .dataframe tbody tr th {\n",
       "        vertical-align: top;\n",
       "    }\n",
       "\n",
       "    .dataframe thead th {\n",
       "        text-align: right;\n",
       "    }\n",
       "</style>\n",
       "<table border=\"1\" class=\"dataframe\">\n",
       "  <thead>\n",
       "    <tr style=\"text-align: right;\">\n",
       "      <th></th>\n",
       "      <th>Foods</th>\n",
       "      <th>Price/ Serving</th>\n",
       "      <th>Serving Size</th>\n",
       "      <th>Calories</th>\n",
       "      <th>Cholesterol mg</th>\n",
       "      <th>Total_Fat g</th>\n",
       "      <th>Sodium mg</th>\n",
       "      <th>Carbohydrates g</th>\n",
       "      <th>Dietary_Fiber g</th>\n",
       "      <th>Protein g</th>\n",
       "      <th>Vit_A IU</th>\n",
       "      <th>Vit_C IU</th>\n",
       "      <th>Calcium mg</th>\n",
       "      <th>Iron mg</th>\n",
       "    </tr>\n",
       "  </thead>\n",
       "  <tbody>\n",
       "    <tr>\n",
       "      <th>62</th>\n",
       "      <td>Crm Mshrm Soup,W/Mlk</td>\n",
       "      <td>0.65</td>\n",
       "      <td>1 C (8 Fl Oz)</td>\n",
       "      <td>203.4</td>\n",
       "      <td>19.8</td>\n",
       "      <td>13.6</td>\n",
       "      <td>1076.3</td>\n",
       "      <td>15.0</td>\n",
       "      <td>0.5</td>\n",
       "      <td>6.1</td>\n",
       "      <td>153.8</td>\n",
       "      <td>2.2</td>\n",
       "      <td>178.6</td>\n",
       "      <td>0.6</td>\n",
       "    </tr>\n",
       "    <tr>\n",
       "      <th>63</th>\n",
       "      <td>Beanbacn Soup,W/Watr</td>\n",
       "      <td>0.67</td>\n",
       "      <td>1 C (8 Fl Oz)</td>\n",
       "      <td>172.0</td>\n",
       "      <td>2.5</td>\n",
       "      <td>5.9</td>\n",
       "      <td>951.3</td>\n",
       "      <td>22.8</td>\n",
       "      <td>8.6</td>\n",
       "      <td>7.9</td>\n",
       "      <td>888.0</td>\n",
       "      <td>1.5</td>\n",
       "      <td>81.0</td>\n",
       "      <td>2.0</td>\n",
       "    </tr>\n",
       "    <tr>\n",
       "      <th>64</th>\n",
       "      <td>NaN</td>\n",
       "      <td>NaN</td>\n",
       "      <td>NaN</td>\n",
       "      <td>NaN</td>\n",
       "      <td>NaN</td>\n",
       "      <td>NaN</td>\n",
       "      <td>NaN</td>\n",
       "      <td>NaN</td>\n",
       "      <td>NaN</td>\n",
       "      <td>NaN</td>\n",
       "      <td>NaN</td>\n",
       "      <td>NaN</td>\n",
       "      <td>NaN</td>\n",
       "      <td>NaN</td>\n",
       "    </tr>\n",
       "    <tr>\n",
       "      <th>65</th>\n",
       "      <td>NaN</td>\n",
       "      <td>NaN</td>\n",
       "      <td>Minimum daily intake</td>\n",
       "      <td>1500.0</td>\n",
       "      <td>30.0</td>\n",
       "      <td>20.0</td>\n",
       "      <td>800.0</td>\n",
       "      <td>130.0</td>\n",
       "      <td>125.0</td>\n",
       "      <td>60.0</td>\n",
       "      <td>1000.0</td>\n",
       "      <td>400.0</td>\n",
       "      <td>700.0</td>\n",
       "      <td>10.0</td>\n",
       "    </tr>\n",
       "    <tr>\n",
       "      <th>66</th>\n",
       "      <td>NaN</td>\n",
       "      <td>NaN</td>\n",
       "      <td>Maximum daily intake</td>\n",
       "      <td>2500.0</td>\n",
       "      <td>240.0</td>\n",
       "      <td>70.0</td>\n",
       "      <td>2000.0</td>\n",
       "      <td>450.0</td>\n",
       "      <td>250.0</td>\n",
       "      <td>100.0</td>\n",
       "      <td>10000.0</td>\n",
       "      <td>5000.0</td>\n",
       "      <td>1500.0</td>\n",
       "      <td>40.0</td>\n",
       "    </tr>\n",
       "  </tbody>\n",
       "</table>\n",
       "</div>"
      ],
      "text/plain": [
       "                   Foods  Price/ Serving          Serving Size  Calories  \\\n",
       "62  Crm Mshrm Soup,W/Mlk            0.65         1 C (8 Fl Oz)     203.4   \n",
       "63  Beanbacn Soup,W/Watr            0.67         1 C (8 Fl Oz)     172.0   \n",
       "64                   NaN             NaN                   NaN       NaN   \n",
       "65                   NaN             NaN  Minimum daily intake    1500.0   \n",
       "66                   NaN             NaN  Maximum daily intake    2500.0   \n",
       "\n",
       "    Cholesterol mg  Total_Fat g  Sodium mg  Carbohydrates g  Dietary_Fiber g  \\\n",
       "62            19.8         13.6     1076.3             15.0              0.5   \n",
       "63             2.5          5.9      951.3             22.8              8.6   \n",
       "64             NaN          NaN        NaN              NaN              NaN   \n",
       "65            30.0         20.0      800.0            130.0            125.0   \n",
       "66           240.0         70.0     2000.0            450.0            250.0   \n",
       "\n",
       "    Protein g  Vit_A IU  Vit_C IU  Calcium mg  Iron mg  \n",
       "62        6.1     153.8       2.2       178.6      0.6  \n",
       "63        7.9     888.0       1.5        81.0      2.0  \n",
       "64        NaN       NaN       NaN         NaN      NaN  \n",
       "65       60.0    1000.0     400.0       700.0     10.0  \n",
       "66      100.0   10000.0    5000.0      1500.0     40.0  "
      ]
     },
     "execution_count": 6,
     "metadata": {},
     "output_type": "execute_result"
    }
   ],
   "source": [
    "foodData.tail()\n"
   ]
  },
  {
   "cell_type": "code",
   "execution_count": 7,
   "metadata": {},
   "outputs": [],
   "source": [
    "# Dietary information is in rows 1 - 64"
   ]
  },
  {
   "cell_type": "code",
   "execution_count": 8,
   "metadata": {},
   "outputs": [],
   "source": [
    "foodData = foodData[0:64] #Isolate the dietary information for the model"
   ]
  },
  {
   "cell_type": "code",
   "execution_count": 9,
   "metadata": {},
   "outputs": [],
   "source": [
    "foodData = foodData.values.tolist()"
   ]
  },
  {
   "cell_type": "code",
   "execution_count": 10,
   "metadata": {},
   "outputs": [
    {
     "data": {
      "text/plain": [
       "['Frozen Broccoli',\n",
       " 0.16,\n",
       " '10 Oz Pkg',\n",
       " 73.8,\n",
       " 0.0,\n",
       " 0.8,\n",
       " 68.2,\n",
       " 13.6,\n",
       " 8.5,\n",
       " 8.0,\n",
       " 5867.4,\n",
       " 160.2,\n",
       " 159.0,\n",
       " 2.3]"
      ]
     },
     "execution_count": 10,
     "metadata": {},
     "output_type": "execute_result"
    }
   ],
   "source": [
    "foodData[0]     #Check list structure"
   ]
  },
  {
   "cell_type": "code",
   "execution_count": 11,
   "metadata": {},
   "outputs": [
    {
     "data": {
      "text/plain": [
       "'Frozen Broccoli'"
      ]
     },
     "execution_count": 11,
     "metadata": {},
     "output_type": "execute_result"
    }
   ],
   "source": [
    "foodData[0][0]   #Foods are in 0 index"
   ]
  },
  {
   "cell_type": "code",
   "execution_count": 12,
   "metadata": {},
   "outputs": [],
   "source": [
    "foods = [x[0] for x in foodData]  #Make a list of foods"
   ]
  },
  {
   "cell_type": "code",
   "execution_count": null,
   "metadata": {},
   "outputs": [],
   "source": []
  },
  {
   "cell_type": "code",
   "execution_count": 13,
   "metadata": {},
   "outputs": [],
   "source": [
    "cost = dict([(x[0], float(x[1])) for x in foodData])\n",
    "cals = dict([(x[0], float(x[3])) for x in foodData])\n",
    "\n",
    "cholesterol = dict([(x[0], float(x[4])) for x in foodData])\n",
    "fat = dict([(x[0], float(x[5])) for x in foodData])\n",
    "\n",
    "sodium = dict([(x[0], float(x[6])) for x in foodData])\n",
    "carbs = dict([(x[0], float(x[7])) for x in foodData])\n",
    "\n",
    "fiber = dict([(x[0], float(x[8])) for x in foodData])\n",
    "protein = dict([(x[0], float(x[9])) for x in foodData])\n",
    "\n",
    "Vit_A = dict([(x[0], float(x[10])) for x in foodData])\n",
    "Vit_C = dict([(x[0], float(x[11])) for x in foodData])\n",
    "\n",
    "calcium = dict([(x[0], float(x[12])) for x in foodData])\n",
    "iron = dict([(x[0], float(x[13])) for x in foodData])\n"
   ]
  },
  {
   "cell_type": "code",
   "execution_count": 14,
   "metadata": {},
   "outputs": [],
   "source": [
    "# Define our problem"
   ]
  },
  {
   "cell_type": "code",
   "execution_count": 15,
   "metadata": {},
   "outputs": [],
   "source": [
    "problem = LpProblem(\"Diet Problem\", LpMinimize)"
   ]
  },
  {
   "cell_type": "code",
   "execution_count": 16,
   "metadata": {},
   "outputs": [],
   "source": [
    "amountVars = LpVariable.dicts(\"Amounts\", foods, 0)"
   ]
  },
  {
   "cell_type": "code",
   "execution_count": 17,
   "metadata": {},
   "outputs": [],
   "source": [
    "# Code in our objective function"
   ]
  },
  {
   "cell_type": "code",
   "execution_count": 18,
   "metadata": {},
   "outputs": [],
   "source": [
    "problem += lpSum( [cost[i] * amountVars[i] for i in foods]), \"total cost\""
   ]
  },
  {
   "cell_type": "code",
   "execution_count": null,
   "metadata": {},
   "outputs": [],
   "source": []
  },
  {
   "cell_type": "code",
   "execution_count": 19,
   "metadata": {},
   "outputs": [],
   "source": [
    "problem += lpSum( [cals[i] * amountVars[i] for i in foods ] ) >= 1500\n",
    "problem += lpSum( [cals[i] * amountVars[i] for i in foods ] ) <= 2500\n",
    "\n",
    "problem += lpSum( [cholesterol[i] * amountVars[i] for i in foods ] ) >= 30\n",
    "problem += lpSum( [cholesterol[i] * amountVars[i] for i in foods ] ) <= 240\n",
    "\n",
    "problem += lpSum( [fat[i] * amountVars[i] for i in foods ] ) >= 20\n",
    "problem += lpSum( [fat[i] * amountVars[i] for i in foods ] ) <= 70\n",
    "\n",
    "problem += lpSum( [sodium[i] * amountVars[i] for i in foods ] ) >= 800\n",
    "problem += lpSum( [sodium[i] * amountVars[i] for i in foods ] ) <= 2000\n",
    "\n",
    "problem += lpSum( [carbs[i] * amountVars[i] for i in foods ] ) >= 130\n",
    "problem += lpSum( [carbs[i] * amountVars[i] for i in foods ] ) <= 450\n",
    "\n",
    "problem += lpSum( [fiber[i] * amountVars[i] for i in foods ] ) >= 125\n",
    "problem += lpSum( [fiber[i] * amountVars[i] for i in foods ] ) <= 250\n",
    "\n",
    "problem += lpSum( [protein[i] * amountVars[i] for i in foods ] ) >= 60\n",
    "problem += lpSum( [protein[i] * amountVars[i] for i in foods ] ) <= 100\n",
    "\n",
    "problem += lpSum( [Vit_A[i] * amountVars[i] for i in foods ] ) >= 1000\n",
    "problem += lpSum( [Vit_A[i] * amountVars[i] for i in foods ] ) <= 10000\n",
    "\n",
    "problem += lpSum( [Vit_C[i] * amountVars[i] for i in foods ] ) >= 400\n",
    "problem += lpSum( [Vit_C[i] * amountVars[i] for i in foods ] ) <= 5000\n",
    "\n",
    "problem += lpSum( [calcium[i] * amountVars[i] for i in foods ] ) >= 700\n",
    "problem += lpSum( [calcium[i] * amountVars[i] for i in foods ] ) <= 1500\n",
    "\n",
    "problem += lpSum( [iron[i] * amountVars[i] for i in foods ] ) >= 10\n",
    "problem += lpSum( [iron[i] * amountVars[i] for i in foods ] ) <= 40\n",
    "\n"
   ]
  },
  {
   "cell_type": "code",
   "execution_count": 20,
   "metadata": {},
   "outputs": [],
   "source": [
    "#Create binary variable for whether food is present and dict \n",
    "#with lower bounds"
   ]
  },
  {
   "cell_type": "code",
   "execution_count": 21,
   "metadata": {},
   "outputs": [],
   "source": [
    "# create dictionary of food variables w/zero lower bound\n",
    "food_vars = LpVariable.dicts('choices', foods, lowBound=0)\n",
    "\n",
    "# create binary variable to indicate whether food is included\n",
    "food_present = LpVariable.dicts('included', foods, lowBound=0, upBound=1, cat=LpBinary)"
   ]
  },
  {
   "cell_type": "code",
   "execution_count": 22,
   "metadata": {},
   "outputs": [],
   "source": [
    "#At least 1/10 if food is preset"
   ]
  },
  {
   "cell_type": "code",
   "execution_count": 23,
   "metadata": {},
   "outputs": [],
   "source": [
    "for food in foods:\n",
    "    problem += food_present[food] * 100000 >= amountVars[food]\n",
    "    problem += amountVars[food] >= food_present[food] * 0.1"
   ]
  },
  {
   "cell_type": "code",
   "execution_count": 24,
   "metadata": {},
   "outputs": [],
   "source": [
    "#Only broccoli or celery should be present"
   ]
  },
  {
   "cell_type": "code",
   "execution_count": 25,
   "metadata": {},
   "outputs": [],
   "source": [
    "problem += lpSum(food_present['Frozen Broccoli'] + \n",
    "                 food_present['Celery, Raw']) <= 1, 'Celery or Broccoli'"
   ]
  },
  {
   "cell_type": "code",
   "execution_count": 26,
   "metadata": {},
   "outputs": [],
   "source": [
    "#Create list of protein foods"
   ]
  },
  {
   "cell_type": "code",
   "execution_count": 27,
   "metadata": {},
   "outputs": [],
   "source": [
    "protein_foods = ['Roasted Chicken', 'Poached Eggs', 'Scrambled Eggs', \n",
    "                 'Bologna,Turkey', 'Frankfurter, Beef', \n",
    "                 'Ham,Sliced,Extralean', 'Kielbasa,Prk', \n",
    "                 'Hamburger W/Toppings', 'Hotdog, Plain', 'Pork', \n",
    "                 'Sardines in Oil', 'White Tuna in Water']"
   ]
  },
  {
   "cell_type": "code",
   "execution_count": null,
   "metadata": {},
   "outputs": [],
   "source": []
  },
  {
   "cell_type": "code",
   "execution_count": 28,
   "metadata": {},
   "outputs": [],
   "source": [
    "#Get at least 3 high-protein foods"
   ]
  },
  {
   "cell_type": "code",
   "execution_count": 29,
   "metadata": {},
   "outputs": [],
   "source": [
    "problem += lpSum(food_present[i] for i in protein_foods) >= 3"
   ]
  },
  {
   "cell_type": "code",
   "execution_count": 30,
   "metadata": {},
   "outputs": [
    {
     "data": {
      "text/plain": [
       "1"
      ]
     },
     "execution_count": 30,
     "metadata": {},
     "output_type": "execute_result"
    }
   ],
   "source": [
    "problem.solve()"
   ]
  },
  {
   "cell_type": "code",
   "execution_count": 31,
   "metadata": {},
   "outputs": [
    {
     "name": "stdout",
     "output_type": "stream",
     "text": [
      "Status: Optimal\n"
     ]
    }
   ],
   "source": [
    "print (\"Status:\" ,LpStatus[problem.status])"
   ]
  },
  {
   "cell_type": "code",
   "execution_count": 32,
   "metadata": {},
   "outputs": [
    {
     "name": "stdout",
     "output_type": "stream",
     "text": [
      "Amounts_2%_Lowfat_Milk 0.0\n",
      "Amounts_3.3%_Fat,Whole_Milk 0.0\n",
      "Amounts_Apple,Raw,W_Skin 0.0\n",
      "Amounts_Apple_Pie 0.0\n",
      "Amounts_Bagels 0.0\n",
      "Amounts_Banana 0.0\n",
      "Amounts_Beanbacn_Soup,W_Watr 0.0\n",
      "Amounts_Bologna,Turkey 0.0\n",
      "Amounts_Butter,Regular 0.0\n",
      "Amounts_Cap'N_Crunch 0.0\n",
      "Amounts_Carrots,Raw 0.0\n",
      "Amounts_Celery,_Raw 42.399358\n",
      "Amounts_Cheddar_Cheese 0.0\n",
      "Amounts_Cheerios 0.0\n",
      "Amounts_Chicknoodl_Soup 0.0\n",
      "Amounts_Chocolate_Chip_Cookies 0.0\n",
      "Amounts_Corn_Flks,_Kellogg'S 0.0\n",
      "Amounts_Couscous 0.0\n",
      "Amounts_Crm_Mshrm_Soup,W_Mlk 0.0\n",
      "Amounts_Frankfurter,_Beef 0.0\n",
      "Amounts_Frozen_Broccoli 0.0\n",
      "Amounts_Frozen_Corn 0.0\n",
      "Amounts_Grapes 0.0\n",
      "Amounts_Ham,Sliced,Extralean 0.0\n",
      "Amounts_Hamburger_W_Toppings 0.0\n",
      "Amounts_Hotdog,_Plain 0.0\n",
      "Amounts_Kielbasa,Prk 0.1\n",
      "Amounts_Kiwifruit,Raw,Fresh 0.0\n",
      "Amounts_Lettuce,Iceberg,Raw 82.802586\n",
      "Amounts_Macaroni,Ckd 0.0\n",
      "Amounts_Malt_O_Meal,Choc 0.0\n",
      "Amounts_New_E_Clamchwd,W_Mlk 0.0\n",
      "Amounts_Neweng_Clamchwd 0.0\n",
      "Amounts_Oatmeal 0.0\n",
      "Amounts_Oatmeal_Cookies 0.0\n",
      "Amounts_Oranges 3.0771841\n",
      "Amounts_Peanut_Butter 1.9429716\n",
      "Amounts_Peppers,_Sweet,_Raw 0.0\n",
      "Amounts_Pizza_W_Pepperoni 0.0\n",
      "Amounts_Poached_Eggs 0.1\n",
      "Amounts_Popcorn,Air_Popped 13.223294\n",
      "Amounts_Pork 0.0\n",
      "Amounts_Potato_Chips,Bbqflvr 0.0\n",
      "Amounts_Potatoes,_Baked 0.0\n",
      "Amounts_Pretzels 0.0\n",
      "Amounts_Raisin_Brn,_Kellg'S 0.0\n",
      "Amounts_Rice_Krispies 0.0\n",
      "Amounts_Roasted_Chicken 0.0\n",
      "Amounts_Sardines_in_Oil 0.0\n",
      "Amounts_Scrambled_Eggs 0.1\n",
      "Amounts_Skim_Milk 0.0\n",
      "Amounts_Spaghetti_W__Sauce 0.0\n",
      "Amounts_Special_K 0.0\n",
      "Amounts_Splt_Pea&Hamsoup 0.0\n",
      "Amounts_Taco 0.0\n",
      "Amounts_Tofu 0.0\n",
      "Amounts_Tomato,Red,Ripe,Raw 0.0\n",
      "Amounts_Tomato_Soup 0.0\n",
      "Amounts_Tortilla_Chip 0.0\n",
      "Amounts_Vegetbeef_Soup 0.0\n",
      "Amounts_Wheat_Bread 0.0\n",
      "Amounts_White_Bread 0.0\n",
      "Amounts_White_Rice 0.0\n",
      "Amounts_White_Tuna_in_Water 0.0\n",
      "included_2%_Lowfat_Milk 0.0\n",
      "included_3.3%_Fat,Whole_Milk 0.0\n",
      "included_Apple,Raw,W_Skin 0.0\n",
      "included_Apple_Pie 0.0\n",
      "included_Bagels 0.0\n",
      "included_Banana 0.0\n",
      "included_Beanbacn_Soup,W_Watr 0.0\n",
      "included_Bologna,Turkey 0.0\n",
      "included_Butter,Regular 0.0\n",
      "included_Cap'N_Crunch 0.0\n",
      "included_Carrots,Raw 0.0\n",
      "included_Celery,_Raw 1.0\n",
      "included_Cheddar_Cheese 0.0\n",
      "included_Cheerios 0.0\n",
      "included_Chicknoodl_Soup 0.0\n",
      "included_Chocolate_Chip_Cookies 0.0\n",
      "included_Corn_Flks,_Kellogg'S 0.0\n",
      "included_Couscous 0.0\n",
      "included_Crm_Mshrm_Soup,W_Mlk 0.0\n",
      "included_Frankfurter,_Beef 0.0\n",
      "included_Frozen_Broccoli 0.0\n",
      "included_Frozen_Corn 0.0\n",
      "included_Grapes 0.0\n",
      "included_Ham,Sliced,Extralean 0.0\n",
      "included_Hamburger_W_Toppings 0.0\n",
      "included_Hotdog,_Plain 0.0\n",
      "included_Kielbasa,Prk 1.0\n",
      "included_Kiwifruit,Raw,Fresh 0.0\n",
      "included_Lettuce,Iceberg,Raw 1.0\n",
      "included_Macaroni,Ckd 0.0\n",
      "included_Malt_O_Meal,Choc 0.0\n",
      "included_New_E_Clamchwd,W_Mlk 0.0\n",
      "included_Neweng_Clamchwd 0.0\n",
      "included_Oatmeal 0.0\n",
      "included_Oatmeal_Cookies 0.0\n",
      "included_Oranges 1.0\n",
      "included_Peanut_Butter 1.0\n",
      "included_Peppers,_Sweet,_Raw 0.0\n",
      "included_Pizza_W_Pepperoni 0.0\n",
      "included_Poached_Eggs 1.0\n",
      "included_Popcorn,Air_Popped 1.0\n",
      "included_Pork 0.0\n",
      "included_Potato_Chips,Bbqflvr 0.0\n",
      "included_Potatoes,_Baked 0.0\n",
      "included_Pretzels 0.0\n",
      "included_Raisin_Brn,_Kellg'S 0.0\n",
      "included_Rice_Krispies 0.0\n",
      "included_Roasted_Chicken 0.0\n",
      "included_Sardines_in_Oil 0.0\n",
      "included_Scrambled_Eggs 1.0\n",
      "included_Skim_Milk 0.0\n",
      "included_Spaghetti_W__Sauce 0.0\n",
      "included_Special_K 0.0\n",
      "included_Splt_Pea&Hamsoup 0.0\n",
      "included_Taco 0.0\n",
      "included_Tofu 0.0\n",
      "included_Tomato,Red,Ripe,Raw 0.0\n",
      "included_Tomato_Soup 0.0\n",
      "included_Tortilla_Chip 0.0\n",
      "included_Vegetbeef_Soup 0.0\n",
      "included_Wheat_Bread 0.0\n",
      "included_White_Bread 0.0\n",
      "included_White_Rice 0.0\n",
      "included_White_Tuna_in_Water 0.0\n"
     ]
    }
   ],
   "source": [
    "for v in problem.variables():\n",
    "    print(v.name, v.varValue)"
   ]
  },
  {
   "cell_type": "code",
   "execution_count": null,
   "metadata": {},
   "outputs": [],
   "source": []
  }
 ],
 "metadata": {
  "kernelspec": {
   "display_name": "Python 3",
   "language": "python",
   "name": "python3"
  },
  "language_info": {
   "codemirror_mode": {
    "name": "ipython",
    "version": 3
   },
   "file_extension": ".py",
   "mimetype": "text/x-python",
   "name": "python",
   "nbconvert_exporter": "python",
   "pygments_lexer": "ipython3",
   "version": "3.7.0"
  }
 },
 "nbformat": 4,
 "nbformat_minor": 2
}
